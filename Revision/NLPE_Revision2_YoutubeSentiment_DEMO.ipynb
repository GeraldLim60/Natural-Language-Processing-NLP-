{
 "cells": [
  {
   "cell_type": "markdown",
   "metadata": {
    "id": "_vT99ODN7wz-"
   },
   "source": [
    "## Install the necessary Libraries"
   ]
  },
  {
   "cell_type": "code",
   "execution_count": 1,
   "metadata": {
    "id": "n2evB6SX4ZZ5"
   },
   "outputs": [],
   "source": [
    "#Fill In The 5 Missing Import Statements\n",
    "import pandas as pd\n",
    "pd.set_option('display.max_colwidth', 200)\n",
    "\n",
    "#fill in function for train test split.\n",
    "from sklearn.model_selection import train_test_split\n",
    "\n",
    "#Use the Sequential class. \n",
    "from tensorflow.keras.models import Sequential\n",
    "\n",
    "#If using vectorizers (optional - uncomment next line to use the code)\n",
    "from sklearn.feature_extraction.text import CountVectorizer\n",
    "\n",
    "#Select the correct crossentropy function for the task.\n",
    "from tensorflow.keras.losses import categorical_crossentropy\n",
    "from tensorflow.keras.optimizers import SGD\n",
    "from tensorflow.keras.layers import Dense\n",
    " \n",
    "from numpy import argmax\n",
    "import numpy as np\n",
    "import re\n",
    "\n",
    "import matplotlib.pyplot as plt\n",
    "#Use confusion matrix  and classification report from sklearn\n",
    "from sklearn.metrics import confusion_matrix\n",
    "from sklearn.metrics import classification_report"
   ]
  },
  {
   "cell_type": "markdown",
   "metadata": {
    "id": "WuS6u41w712c"
   },
   "source": [
    "# Install Data\n",
    "\n",
    "1. Load the dataset **'yt_sentiment.csv'** into a Pandas Dataframe.\n",
    "2. The csv file has a column named 'Sentiment'. Label 1 means 'Positive' sentiment while label 0 means 'Negative' sentiment."
   ]
  },
  {
   "cell_type": "code",
   "execution_count": 2,
   "metadata": {
    "id": "v-pHgv-C7rEY"
   },
   "outputs": [],
   "source": [
    "df=pd.read_csv('./yt_sentiment.csv')"
   ]
  },
  {
   "cell_type": "markdown",
   "metadata": {
    "id": "e1C8YyUM9Qxa"
   },
   "source": [
    "### Show the first 10 rows of data"
   ]
  },
  {
   "cell_type": "code",
   "execution_count": 3,
   "metadata": {
    "colab": {
     "base_uri": "https://localhost:8080/",
     "height": 424
    },
    "id": "_cbdAJQ188Nm",
    "outputId": "bb4fe707-5a23-497a-f2ec-323a9f6f6c6e"
   },
   "outputs": [
    {
     "data": {
      "text/html": [
       "<div>\n",
       "<style scoped>\n",
       "    .dataframe tbody tr th:only-of-type {\n",
       "        vertical-align: middle;\n",
       "    }\n",
       "\n",
       "    .dataframe tbody tr th {\n",
       "        vertical-align: top;\n",
       "    }\n",
       "\n",
       "    .dataframe thead th {\n",
       "        text-align: right;\n",
       "    }\n",
       "</style>\n",
       "<table border=\"1\" class=\"dataframe\">\n",
       "  <thead>\n",
       "    <tr style=\"text-align: right;\">\n",
       "      <th></th>\n",
       "      <th>Comment</th>\n",
       "      <th>Sentiment</th>\n",
       "    </tr>\n",
       "  </thead>\n",
       "  <tbody>\n",
       "    <tr>\n",
       "      <th>0</th>\n",
       "      <td>here in nz 50 of retailers don’t even have contactless credit card machines like paywave which support apple pay they don’t like the high fees that come with these</td>\n",
       "      <td>0</td>\n",
       "    </tr>\n",
       "    <tr>\n",
       "      <th>1</th>\n",
       "      <td>i will forever acknowledge this channel with the help of your lessons and ideas explanations now its quite helpful while youll just sit at your comfort and monitor your account growth</td>\n",
       "      <td>1</td>\n",
       "    </tr>\n",
       "    <tr>\n",
       "      <th>2</th>\n",
       "      <td>whenever i go to a place that doesn’t take apple pay doesn’t happen too often it’s such a drag between ‘contactless covid’ habits and my getting the apple card i’ve gotten so used to apple pay tha...</td>\n",
       "      <td>0</td>\n",
       "    </tr>\n",
       "    <tr>\n",
       "      <th>3</th>\n",
       "      <td>apple pay is so convenient secure and easy to use i used it while at the korean and japanese airports no need for physical credit cards</td>\n",
       "      <td>1</td>\n",
       "    </tr>\n",
       "    <tr>\n",
       "      <th>4</th>\n",
       "      <td>we only got apple pay in south africa in 20202021 and it’s widely accepted</td>\n",
       "      <td>1</td>\n",
       "    </tr>\n",
       "    <tr>\n",
       "      <th>5</th>\n",
       "      <td>in the united states we have an abundance of retailers that accept apple pay but its still good to carry the physical card with you being there are still a large quantity of places that do not acc...</td>\n",
       "      <td>1</td>\n",
       "    </tr>\n",
       "    <tr>\n",
       "      <th>6</th>\n",
       "      <td>wow you really went to town on the psu test rack thats a serious bit of kit very flexible good choices wouldnt surprise me if choma start offering this bespoke rack to the psu makers they all watc...</td>\n",
       "      <td>1</td>\n",
       "    </tr>\n",
       "    <tr>\n",
       "      <th>7</th>\n",
       "      <td>the lab is the most exciting thing in it ive seen for a while this is reallly going to shake up how the qualiity of even basic components are manufactured</td>\n",
       "      <td>1</td>\n",
       "    </tr>\n",
       "    <tr>\n",
       "      <th>8</th>\n",
       "      <td>linus im an engineer and love the lmg content across all the channels very much looking forward to more lab content and hope your engineering team will get more on camera time and hosting roles</td>\n",
       "      <td>1</td>\n",
       "    </tr>\n",
       "    <tr>\n",
       "      <th>9</th>\n",
       "      <td>there used to be a time where linus was the smartest guy in the room this video clearly shows that the team he has built are experts in their respective fields and make linus look like a child kud...</td>\n",
       "      <td>1</td>\n",
       "    </tr>\n",
       "  </tbody>\n",
       "</table>\n",
       "</div>"
      ],
      "text/plain": [
       "                                                                                                                                                                                                   Comment  \\\n",
       "0                                      here in nz 50 of retailers don’t even have contactless credit card machines like paywave which support apple pay they don’t like the high fees that come with these   \n",
       "1                  i will forever acknowledge this channel with the help of your lessons and ideas explanations now its quite helpful while youll just sit at your comfort and monitor your account growth   \n",
       "2  whenever i go to a place that doesn’t take apple pay doesn’t happen too often it’s such a drag between ‘contactless covid’ habits and my getting the apple card i’ve gotten so used to apple pay tha...   \n",
       "3                                                                  apple pay is so convenient secure and easy to use i used it while at the korean and japanese airports no need for physical credit cards   \n",
       "4                                                                                                                               we only got apple pay in south africa in 20202021 and it’s widely accepted   \n",
       "5  in the united states we have an abundance of retailers that accept apple pay but its still good to carry the physical card with you being there are still a large quantity of places that do not acc...   \n",
       "6  wow you really went to town on the psu test rack thats a serious bit of kit very flexible good choices wouldnt surprise me if choma start offering this bespoke rack to the psu makers they all watc...   \n",
       "7                                               the lab is the most exciting thing in it ive seen for a while this is reallly going to shake up how the qualiity of even basic components are manufactured   \n",
       "8        linus im an engineer and love the lmg content across all the channels very much looking forward to more lab content and hope your engineering team will get more on camera time and hosting roles   \n",
       "9  there used to be a time where linus was the smartest guy in the room this video clearly shows that the team he has built are experts in their respective fields and make linus look like a child kud...   \n",
       "\n",
       "   Sentiment  \n",
       "0          0  \n",
       "1          1  \n",
       "2          0  \n",
       "3          1  \n",
       "4          1  \n",
       "5          1  \n",
       "6          1  \n",
       "7          1  \n",
       "8          1  \n",
       "9          1  "
      ]
     },
     "execution_count": 3,
     "metadata": {},
     "output_type": "execute_result"
    }
   ],
   "source": [
    "df.head(10)"
   ]
  },
  {
   "cell_type": "markdown",
   "metadata": {
    "id": "gkvpmytr9H5A"
   },
   "source": [
    "### Show count of each Sentiment types"
   ]
  },
  {
   "cell_type": "code",
   "execution_count": 4,
   "metadata": {
    "colab": {
     "base_uri": "https://localhost:8080/"
    },
    "id": "MKm3D7nf9Avk",
    "outputId": "615ecd48-35e5-4761-e392-a4e1aaca97dd"
   },
   "outputs": [
    {
     "data": {
      "text/plain": [
       "Sentiment\n",
       "0    700\n",
       "1    700\n",
       "Name: count, dtype: int64"
      ]
     },
     "execution_count": 4,
     "metadata": {},
     "output_type": "execute_result"
    }
   ],
   "source": [
    "df.Sentiment.value_counts()"
   ]
  },
  {
   "cell_type": "markdown",
   "metadata": {},
   "source": [
    "## Create a **clean()** function to do the following data preprocessing:\n",
    "\n",
    "1. Use the regex sub() function to perform the following for every text:\n",
    "  * remove all numbers\n",
    "  * remove special characters\n",
    "  * remove extra spaces and convert to lowercase\n",
    "- You may use a combination of replace() method or regex sub() function.  "
   ]
  },
  {
   "cell_type": "code",
   "execution_count": 5,
   "metadata": {},
   "outputs": [],
   "source": [
    "import re\n",
    "\n",
    "def clean(text):\n",
    "    text = re.sub(r'[d\\+]', ' ', text)\n",
    "    text = re.sub(r'[^\\w\\s]', ' ', text)\n",
    "    text = re.sub(r'\\s+', ' ', text).strip().lower()\n",
    "    return text\n"
   ]
  },
  {
   "cell_type": "code",
   "execution_count": 6,
   "metadata": {
    "colab": {
     "base_uri": "https://localhost:8080/",
     "height": 424
    },
    "id": "TL7TnyBd9F-c",
    "outputId": "462f16da-a780-4bc7-bee4-4ff59a69e963"
   },
   "outputs": [
    {
     "data": {
      "text/html": [
       "<div>\n",
       "<style scoped>\n",
       "    .dataframe tbody tr th:only-of-type {\n",
       "        vertical-align: middle;\n",
       "    }\n",
       "\n",
       "    .dataframe tbody tr th {\n",
       "        vertical-align: top;\n",
       "    }\n",
       "\n",
       "    .dataframe thead th {\n",
       "        text-align: right;\n",
       "    }\n",
       "</style>\n",
       "<table border=\"1\" class=\"dataframe\">\n",
       "  <thead>\n",
       "    <tr style=\"text-align: right;\">\n",
       "      <th></th>\n",
       "      <th>Comment</th>\n",
       "      <th>Sentiment</th>\n",
       "    </tr>\n",
       "  </thead>\n",
       "  <tbody>\n",
       "    <tr>\n",
       "      <th>0</th>\n",
       "      <td>here in nz 50 of retailers on t even have contactless cre it car machines like paywave which support apple pay they on t like the high fees that come with these</td>\n",
       "      <td>0</td>\n",
       "    </tr>\n",
       "    <tr>\n",
       "      <th>1</th>\n",
       "      <td>i will forever acknowle ge this channel with the help of your lessons an i eas explanations now its quite helpful while youll just sit at your comfort an monitor your account growth</td>\n",
       "      <td>1</td>\n",
       "    </tr>\n",
       "    <tr>\n",
       "      <th>2</th>\n",
       "      <td>whenever i go to a place that oesn t take apple pay oesn t happen too often it s such a rag between contactless covi habits an my getting the apple car i ve gotten so use to apple pay that i get s...</td>\n",
       "      <td>0</td>\n",
       "    </tr>\n",
       "    <tr>\n",
       "      <th>3</th>\n",
       "      <td>apple pay is so convenient secure an easy to use i use it while at the korean an japanese airports no nee for physical cre it car s</td>\n",
       "      <td>1</td>\n",
       "    </tr>\n",
       "    <tr>\n",
       "      <th>4</th>\n",
       "      <td>we only got apple pay in south africa in 20202021 an it s wi ely accepte</td>\n",
       "      <td>1</td>\n",
       "    </tr>\n",
       "    <tr>\n",
       "      <th>5</th>\n",
       "      <td>in the unite states we have an abun ance of retailers that accept apple pay but its still goo to carry the physical car with you being there are still a large quantity of places that o not accept ...</td>\n",
       "      <td>1</td>\n",
       "    </tr>\n",
       "    <tr>\n",
       "      <th>6</th>\n",
       "      <td>wow you really went to town on the psu test rack thats a serious bit of kit very flexible goo choices woul nt surprise me if choma start offering this bespoke rack to the psu makers they all watch...</td>\n",
       "      <td>1</td>\n",
       "    </tr>\n",
       "    <tr>\n",
       "      <th>7</th>\n",
       "      <td>the lab is the most exciting thing in it ive seen for a while this is reallly going to shake up how the qualiity of even basic components are manufacture</td>\n",
       "      <td>1</td>\n",
       "    </tr>\n",
       "    <tr>\n",
       "      <th>8</th>\n",
       "      <td>linus im an engineer an love the lmg content across all the channels very much looking forwar to more lab content an hope your engineering team will get more on camera time an hosting roles</td>\n",
       "      <td>1</td>\n",
       "    </tr>\n",
       "    <tr>\n",
       "      <th>9</th>\n",
       "      <td>there use to be a time where linus was the smartest guy in the room this vi eo clearly shows that the team he has built are experts in their respective fiel s an make linus look like a chil ku os ...</td>\n",
       "      <td>1</td>\n",
       "    </tr>\n",
       "  </tbody>\n",
       "</table>\n",
       "</div>"
      ],
      "text/plain": [
       "                                                                                                                                                                                                   Comment  \\\n",
       "0                                         here in nz 50 of retailers on t even have contactless cre it car machines like paywave which support apple pay they on t like the high fees that come with these   \n",
       "1                    i will forever acknowle ge this channel with the help of your lessons an i eas explanations now its quite helpful while youll just sit at your comfort an monitor your account growth   \n",
       "2  whenever i go to a place that oesn t take apple pay oesn t happen too often it s such a rag between contactless covi habits an my getting the apple car i ve gotten so use to apple pay that i get s...   \n",
       "3                                                                      apple pay is so convenient secure an easy to use i use it while at the korean an japanese airports no nee for physical cre it car s   \n",
       "4                                                                                                                                 we only got apple pay in south africa in 20202021 an it s wi ely accepte   \n",
       "5  in the unite states we have an abun ance of retailers that accept apple pay but its still goo to carry the physical car with you being there are still a large quantity of places that o not accept ...   \n",
       "6  wow you really went to town on the psu test rack thats a serious bit of kit very flexible goo choices woul nt surprise me if choma start offering this bespoke rack to the psu makers they all watch...   \n",
       "7                                                the lab is the most exciting thing in it ive seen for a while this is reallly going to shake up how the qualiity of even basic components are manufacture   \n",
       "8            linus im an engineer an love the lmg content across all the channels very much looking forwar to more lab content an hope your engineering team will get more on camera time an hosting roles   \n",
       "9  there use to be a time where linus was the smartest guy in the room this vi eo clearly shows that the team he has built are experts in their respective fiel s an make linus look like a chil ku os ...   \n",
       "\n",
       "   Sentiment  \n",
       "0          0  \n",
       "1          1  \n",
       "2          0  \n",
       "3          1  \n",
       "4          1  \n",
       "5          1  \n",
       "6          1  \n",
       "7          1  \n",
       "8          1  \n",
       "9          1  "
      ]
     },
     "execution_count": 6,
     "metadata": {},
     "output_type": "execute_result"
    }
   ],
   "source": [
    "df.Comment=df.Comment.apply(clean)\n",
    "df.head(10)"
   ]
  },
  {
   "cell_type": "markdown",
   "metadata": {
    "id": "5EF92YjzjS31"
   },
   "source": [
    "## Assign X to 'Comment' and Y to 'Sentiment'"
   ]
  },
  {
   "cell_type": "code",
   "execution_count": 7,
   "metadata": {
    "id": "fFLIg4j9FUGW"
   },
   "outputs": [],
   "source": [
    "X=df.Comment\n",
    "Y=df.Sentiment\n",
    "\n",
    "#export your cleaned results as evidence\n",
    "X.to_csv('cleaned_yt_sentiment.csv')"
   ]
  },
  {
   "cell_type": "markdown",
   "metadata": {
    "id": "P1UQuGkbEmvq"
   },
   "source": [
    "## Create Document Vectors\n",
    "\n",
    "Create your custom vocabulary\n",
    "\n",
    "Vectorize the dataset\n",
    "\n",
    "Convert words into numbers for the model to understand\n",
    "\n",
    "Obtain your X_encoded and Y_encoded"
   ]
  },
  {
   "cell_type": "code",
   "execution_count": 8,
   "metadata": {
    "id": "-omvAzASEo4a"
   },
   "outputs": [],
   "source": [
    "vectorizer = CountVectorizer()\n",
    "\n",
    "X_encoded = vectorizer.fit_transform(X).toarray()"
   ]
  },
  {
   "cell_type": "code",
   "execution_count": 9,
   "metadata": {
    "colab": {
     "base_uri": "https://localhost:8080/"
    },
    "id": "FVT6ssBLGPXL",
    "outputId": "117e273d-4881-4810-9738-eeb362e2c034"
   },
   "outputs": [
    {
     "data": {
      "text/plain": [
       "1400"
      ]
     },
     "execution_count": 9,
     "metadata": {},
     "output_type": "execute_result"
    }
   ],
   "source": [
    "len(X_encoded)"
   ]
  },
  {
   "cell_type": "code",
   "execution_count": 10,
   "metadata": {
    "id": "QJ_FmxVIEo1S"
   },
   "outputs": [
    {
     "data": {
      "text/plain": [
       "array([[ True, False],\n",
       "       [False,  True],\n",
       "       [ True, False],\n",
       "       ...,\n",
       "       [ True, False],\n",
       "       [ True, False],\n",
       "       [ True, False]])"
      ]
     },
     "execution_count": 10,
     "metadata": {},
     "output_type": "execute_result"
    }
   ],
   "source": [
    "Y_encoded = pd.get_dummies(Y).values\n",
    "\n",
    "Y_encoded"
   ]
  },
  {
   "cell_type": "markdown",
   "metadata": {
    "id": "v4T9sv_xEzc_"
   },
   "source": [
    "## Split into train, test sets. 60% for training, 40% for testing\n",
    "\n",
    "1. Use the train_test_split() function. "
   ]
  },
  {
   "cell_type": "code",
   "execution_count": 11,
   "metadata": {
    "id": "XXzOJ1CgEtbH"
   },
   "outputs": [],
   "source": [
    "X_train, X_test, y_train, y_test = train_test_split(X_encoded, Y_encoded, test_size=0.4, random_state=42)"
   ]
  },
  {
   "cell_type": "markdown",
   "metadata": {
    "id": "S7CmmKUXM95g"
   },
   "source": [
    "## Create a neural network model using keras Sequential model"
   ]
  },
  {
   "cell_type": "code",
   "execution_count": 12,
   "metadata": {
    "colab": {
     "base_uri": "https://localhost:8080/"
    },
    "id": "1ZRIgwhdEtYx",
    "outputId": "e729c75b-c6fb-456d-9790-92b7caf11d87"
   },
   "outputs": [
    {
     "name": "stdout",
     "output_type": "stream",
     "text": [
      "Epoch 1/50\n"
     ]
    },
    {
     "name": "stderr",
     "output_type": "stream",
     "text": [
      "c:\\Users\\Gerald Lim\\anaconda3\\envs\\NLP\\lib\\site-packages\\keras\\src\\layers\\core\\dense.py:87: UserWarning: Do not pass an `input_shape`/`input_dim` argument to a layer. When using Sequential models, prefer using an `Input(shape)` object as the first layer in the model instead.\n",
      "  super().__init__(activity_regularizer=activity_regularizer, **kwargs)\n"
     ]
    },
    {
     "name": "stdout",
     "output_type": "stream",
     "text": [
      "\u001b[1m53/53\u001b[0m \u001b[32m━━━━━━━━━━━━━━━━━━━━\u001b[0m\u001b[37m\u001b[0m \u001b[1m1s\u001b[0m 5ms/step - acc: 0.4994 - loss: 0.7149 - val_acc: 0.6411 - val_loss: 0.6621\n",
      "Epoch 2/50\n",
      "\u001b[1m53/53\u001b[0m \u001b[32m━━━━━━━━━━━━━━━━━━━━\u001b[0m\u001b[37m\u001b[0m \u001b[1m0s\u001b[0m 3ms/step - acc: 0.6386 - loss: 0.6480 - val_acc: 0.6107 - val_loss: 0.6498\n",
      "Epoch 3/50\n",
      "\u001b[1m53/53\u001b[0m \u001b[32m━━━━━━━━━━━━━━━━━━━━\u001b[0m\u001b[37m\u001b[0m \u001b[1m0s\u001b[0m 3ms/step - acc: 0.6477 - loss: 0.6177 - val_acc: 0.6143 - val_loss: 0.6236\n",
      "Epoch 4/50\n",
      "\u001b[1m53/53\u001b[0m \u001b[32m━━━━━━━━━━━━━━━━━━━━\u001b[0m\u001b[37m\u001b[0m \u001b[1m0s\u001b[0m 3ms/step - acc: 0.7217 - loss: 0.5612 - val_acc: 0.7018 - val_loss: 0.5927\n",
      "Epoch 5/50\n",
      "\u001b[1m53/53\u001b[0m \u001b[32m━━━━━━━━━━━━━━━━━━━━\u001b[0m\u001b[37m\u001b[0m \u001b[1m0s\u001b[0m 3ms/step - acc: 0.7727 - loss: 0.5269 - val_acc: 0.7286 - val_loss: 0.5703\n",
      "Epoch 6/50\n",
      "\u001b[1m53/53\u001b[0m \u001b[32m━━━━━━━━━━━━━━━━━━━━\u001b[0m\u001b[37m\u001b[0m \u001b[1m0s\u001b[0m 3ms/step - acc: 0.8365 - loss: 0.4863 - val_acc: 0.7000 - val_loss: 0.5636\n",
      "Epoch 7/50\n",
      "\u001b[1m53/53\u001b[0m \u001b[32m━━━━━━━━━━━━━━━━━━━━\u001b[0m\u001b[37m\u001b[0m \u001b[1m0s\u001b[0m 3ms/step - acc: 0.8302 - loss: 0.4510 - val_acc: 0.7607 - val_loss: 0.5290\n",
      "Epoch 8/50\n",
      "\u001b[1m53/53\u001b[0m \u001b[32m━━━━━━━━━━━━━━━━━━━━\u001b[0m\u001b[37m\u001b[0m \u001b[1m0s\u001b[0m 3ms/step - acc: 0.8610 - loss: 0.4197 - val_acc: 0.7732 - val_loss: 0.5203\n",
      "Epoch 9/50\n",
      "\u001b[1m53/53\u001b[0m \u001b[32m━━━━━━━━━━━━━━━━━━━━\u001b[0m\u001b[37m\u001b[0m \u001b[1m0s\u001b[0m 3ms/step - acc: 0.8371 - loss: 0.3923 - val_acc: 0.7696 - val_loss: 0.5052\n",
      "Epoch 10/50\n",
      "\u001b[1m53/53\u001b[0m \u001b[32m━━━━━━━━━━━━━━━━━━━━\u001b[0m\u001b[37m\u001b[0m \u001b[1m0s\u001b[0m 3ms/step - acc: 0.8729 - loss: 0.3625 - val_acc: 0.7839 - val_loss: 0.4919\n",
      "Epoch 11/50\n",
      "\u001b[1m53/53\u001b[0m \u001b[32m━━━━━━━━━━━━━━━━━━━━\u001b[0m\u001b[37m\u001b[0m \u001b[1m0s\u001b[0m 3ms/step - acc: 0.9210 - loss: 0.3138 - val_acc: 0.7857 - val_loss: 0.4843\n",
      "Epoch 12/50\n",
      "\u001b[1m53/53\u001b[0m \u001b[32m━━━━━━━━━━━━━━━━━━━━\u001b[0m\u001b[37m\u001b[0m \u001b[1m0s\u001b[0m 3ms/step - acc: 0.9170 - loss: 0.3013 - val_acc: 0.7607 - val_loss: 0.4934\n",
      "Epoch 13/50\n",
      "\u001b[1m53/53\u001b[0m \u001b[32m━━━━━━━━━━━━━━━━━━━━\u001b[0m\u001b[37m\u001b[0m \u001b[1m0s\u001b[0m 3ms/step - acc: 0.9164 - loss: 0.2848 - val_acc: 0.7821 - val_loss: 0.4698\n",
      "Epoch 14/50\n",
      "\u001b[1m53/53\u001b[0m \u001b[32m━━━━━━━━━━━━━━━━━━━━\u001b[0m\u001b[37m\u001b[0m \u001b[1m0s\u001b[0m 3ms/step - acc: 0.9439 - loss: 0.2611 - val_acc: 0.7893 - val_loss: 0.4668\n",
      "Epoch 15/50\n",
      "\u001b[1m53/53\u001b[0m \u001b[32m━━━━━━━━━━━━━━━━━━━━\u001b[0m\u001b[37m\u001b[0m \u001b[1m0s\u001b[0m 4ms/step - acc: 0.9545 - loss: 0.2351 - val_acc: 0.7875 - val_loss: 0.4637\n",
      "Epoch 16/50\n",
      "\u001b[1m53/53\u001b[0m \u001b[32m━━━━━━━━━━━━━━━━━━━━\u001b[0m\u001b[37m\u001b[0m \u001b[1m0s\u001b[0m 4ms/step - acc: 0.9475 - loss: 0.2357 - val_acc: 0.7875 - val_loss: 0.4663\n",
      "Epoch 17/50\n",
      "\u001b[1m53/53\u001b[0m \u001b[32m━━━━━━━━━━━━━━━━━━━━\u001b[0m\u001b[37m\u001b[0m \u001b[1m0s\u001b[0m 3ms/step - acc: 0.9653 - loss: 0.2080 - val_acc: 0.7696 - val_loss: 0.4735\n",
      "Epoch 18/50\n",
      "\u001b[1m53/53\u001b[0m \u001b[32m━━━━━━━━━━━━━━━━━━━━\u001b[0m\u001b[37m\u001b[0m \u001b[1m0s\u001b[0m 3ms/step - acc: 0.9742 - loss: 0.1721 - val_acc: 0.7857 - val_loss: 0.4670\n",
      "Epoch 19/50\n",
      "\u001b[1m53/53\u001b[0m \u001b[32m━━━━━━━━━━━━━━━━━━━━\u001b[0m\u001b[37m\u001b[0m \u001b[1m0s\u001b[0m 4ms/step - acc: 0.9734 - loss: 0.1705 - val_acc: 0.7893 - val_loss: 0.4554\n",
      "Epoch 20/50\n",
      "\u001b[1m53/53\u001b[0m \u001b[32m━━━━━━━━━━━━━━━━━━━━\u001b[0m\u001b[37m\u001b[0m \u001b[1m0s\u001b[0m 3ms/step - acc: 0.9828 - loss: 0.1540 - val_acc: 0.7804 - val_loss: 0.4706\n",
      "Epoch 21/50\n",
      "\u001b[1m53/53\u001b[0m \u001b[32m━━━━━━━━━━━━━━━━━━━━\u001b[0m\u001b[37m\u001b[0m \u001b[1m0s\u001b[0m 3ms/step - acc: 0.9892 - loss: 0.1415 - val_acc: 0.7875 - val_loss: 0.4636\n",
      "Epoch 22/50\n",
      "\u001b[1m53/53\u001b[0m \u001b[32m━━━━━━━━━━━━━━━━━━━━\u001b[0m\u001b[37m\u001b[0m \u001b[1m0s\u001b[0m 3ms/step - acc: 0.9873 - loss: 0.1350 - val_acc: 0.7821 - val_loss: 0.4667\n",
      "Epoch 23/50\n",
      "\u001b[1m53/53\u001b[0m \u001b[32m━━━━━━━━━━━━━━━━━━━━\u001b[0m\u001b[37m\u001b[0m \u001b[1m0s\u001b[0m 3ms/step - acc: 0.9937 - loss: 0.1248 - val_acc: 0.7821 - val_loss: 0.4737\n",
      "Epoch 24/50\n",
      "\u001b[1m53/53\u001b[0m \u001b[32m━━━━━━━━━━━━━━━━━━━━\u001b[0m\u001b[37m\u001b[0m \u001b[1m0s\u001b[0m 3ms/step - acc: 0.9933 - loss: 0.1198 - val_acc: 0.7804 - val_loss: 0.4662\n",
      "Epoch 25/50\n",
      "\u001b[1m53/53\u001b[0m \u001b[32m━━━━━━━━━━━━━━━━━━━━\u001b[0m\u001b[37m\u001b[0m \u001b[1m0s\u001b[0m 3ms/step - acc: 0.9959 - loss: 0.0992 - val_acc: 0.7804 - val_loss: 0.4732\n",
      "Epoch 26/50\n",
      "\u001b[1m53/53\u001b[0m \u001b[32m━━━━━━━━━━━━━━━━━━━━\u001b[0m\u001b[37m\u001b[0m \u001b[1m0s\u001b[0m 3ms/step - acc: 0.9970 - loss: 0.0998 - val_acc: 0.7839 - val_loss: 0.4725\n",
      "Epoch 27/50\n",
      "\u001b[1m53/53\u001b[0m \u001b[32m━━━━━━━━━━━━━━━━━━━━\u001b[0m\u001b[37m\u001b[0m \u001b[1m0s\u001b[0m 3ms/step - acc: 0.9991 - loss: 0.0879 - val_acc: 0.7821 - val_loss: 0.4786\n",
      "Epoch 28/50\n",
      "\u001b[1m53/53\u001b[0m \u001b[32m━━━━━━━━━━━━━━━━━━━━\u001b[0m\u001b[37m\u001b[0m \u001b[1m0s\u001b[0m 3ms/step - acc: 0.9952 - loss: 0.0841 - val_acc: 0.7839 - val_loss: 0.4806\n",
      "Epoch 29/50\n",
      "\u001b[1m53/53\u001b[0m \u001b[32m━━━━━━━━━━━━━━━━━━━━\u001b[0m\u001b[37m\u001b[0m \u001b[1m0s\u001b[0m 3ms/step - acc: 0.9932 - loss: 0.0927 - val_acc: 0.7821 - val_loss: 0.4866\n",
      "Epoch 30/50\n",
      "\u001b[1m53/53\u001b[0m \u001b[32m━━━━━━━━━━━━━━━━━━━━\u001b[0m\u001b[37m\u001b[0m \u001b[1m0s\u001b[0m 3ms/step - acc: 0.9965 - loss: 0.0805 - val_acc: 0.7821 - val_loss: 0.5014\n",
      "Epoch 31/50\n",
      "\u001b[1m53/53\u001b[0m \u001b[32m━━━━━━━━━━━━━━━━━━━━\u001b[0m\u001b[37m\u001b[0m \u001b[1m0s\u001b[0m 3ms/step - acc: 0.9972 - loss: 0.0750 - val_acc: 0.7857 - val_loss: 0.4897\n",
      "Epoch 32/50\n",
      "\u001b[1m53/53\u001b[0m \u001b[32m━━━━━━━━━━━━━━━━━━━━\u001b[0m\u001b[37m\u001b[0m \u001b[1m0s\u001b[0m 3ms/step - acc: 0.9985 - loss: 0.0748 - val_acc: 0.7839 - val_loss: 0.4914\n",
      "Epoch 33/50\n",
      "\u001b[1m53/53\u001b[0m \u001b[32m━━━━━━━━━━━━━━━━━━━━\u001b[0m\u001b[37m\u001b[0m \u001b[1m0s\u001b[0m 3ms/step - acc: 0.9968 - loss: 0.0624 - val_acc: 0.7839 - val_loss: 0.4985\n",
      "Epoch 34/50\n",
      "\u001b[1m53/53\u001b[0m \u001b[32m━━━━━━━━━━━━━━━━━━━━\u001b[0m\u001b[37m\u001b[0m \u001b[1m0s\u001b[0m 3ms/step - acc: 0.9970 - loss: 0.0680 - val_acc: 0.7875 - val_loss: 0.5002\n",
      "Epoch 35/50\n",
      "\u001b[1m53/53\u001b[0m \u001b[32m━━━━━━━━━━━━━━━━━━━━\u001b[0m\u001b[37m\u001b[0m \u001b[1m0s\u001b[0m 3ms/step - acc: 0.9965 - loss: 0.0634 - val_acc: 0.7893 - val_loss: 0.5023\n",
      "Epoch 36/50\n",
      "\u001b[1m53/53\u001b[0m \u001b[32m━━━━━━━━━━━━━━━━━━━━\u001b[0m\u001b[37m\u001b[0m \u001b[1m0s\u001b[0m 3ms/step - acc: 0.9991 - loss: 0.0545 - val_acc: 0.7857 - val_loss: 0.5069\n",
      "Epoch 37/50\n",
      "\u001b[1m53/53\u001b[0m \u001b[32m━━━━━━━━━━━━━━━━━━━━\u001b[0m\u001b[37m\u001b[0m \u001b[1m0s\u001b[0m 3ms/step - acc: 0.9958 - loss: 0.0591 - val_acc: 0.7875 - val_loss: 0.5178\n",
      "Epoch 38/50\n",
      "\u001b[1m53/53\u001b[0m \u001b[32m━━━━━━━━━━━━━━━━━━━━\u001b[0m\u001b[37m\u001b[0m \u001b[1m0s\u001b[0m 3ms/step - acc: 0.9959 - loss: 0.0551 - val_acc: 0.7893 - val_loss: 0.5160\n",
      "Epoch 39/50\n",
      "\u001b[1m53/53\u001b[0m \u001b[32m━━━━━━━━━━━━━━━━━━━━\u001b[0m\u001b[37m\u001b[0m \u001b[1m0s\u001b[0m 3ms/step - acc: 0.9994 - loss: 0.0454 - val_acc: 0.7946 - val_loss: 0.5246\n",
      "Epoch 40/50\n",
      "\u001b[1m53/53\u001b[0m \u001b[32m━━━━━━━━━━━━━━━━━━━━\u001b[0m\u001b[37m\u001b[0m \u001b[1m0s\u001b[0m 3ms/step - acc: 0.9961 - loss: 0.0544 - val_acc: 0.7911 - val_loss: 0.5215\n",
      "Epoch 41/50\n",
      "\u001b[1m53/53\u001b[0m \u001b[32m━━━━━━━━━━━━━━━━━━━━\u001b[0m\u001b[37m\u001b[0m \u001b[1m0s\u001b[0m 3ms/step - acc: 0.9979 - loss: 0.0426 - val_acc: 0.7893 - val_loss: 0.5271\n",
      "Epoch 42/50\n",
      "\u001b[1m53/53\u001b[0m \u001b[32m━━━━━━━━━━━━━━━━━━━━\u001b[0m\u001b[37m\u001b[0m \u001b[1m0s\u001b[0m 3ms/step - acc: 0.9961 - loss: 0.0442 - val_acc: 0.7929 - val_loss: 0.5320\n",
      "Epoch 43/50\n",
      "\u001b[1m53/53\u001b[0m \u001b[32m━━━━━━━━━━━━━━━━━━━━\u001b[0m\u001b[37m\u001b[0m \u001b[1m0s\u001b[0m 3ms/step - acc: 0.9968 - loss: 0.0416 - val_acc: 0.7946 - val_loss: 0.5364\n",
      "Epoch 44/50\n",
      "\u001b[1m53/53\u001b[0m \u001b[32m━━━━━━━━━━━━━━━━━━━━\u001b[0m\u001b[37m\u001b[0m \u001b[1m0s\u001b[0m 3ms/step - acc: 0.9955 - loss: 0.0439 - val_acc: 0.7946 - val_loss: 0.5412\n",
      "Epoch 45/50\n",
      "\u001b[1m53/53\u001b[0m \u001b[32m━━━━━━━━━━━━━━━━━━━━\u001b[0m\u001b[37m\u001b[0m \u001b[1m0s\u001b[0m 3ms/step - acc: 0.9985 - loss: 0.0380 - val_acc: 0.7929 - val_loss: 0.5389\n",
      "Epoch 46/50\n",
      "\u001b[1m53/53\u001b[0m \u001b[32m━━━━━━━━━━━━━━━━━━━━\u001b[0m\u001b[37m\u001b[0m \u001b[1m0s\u001b[0m 3ms/step - acc: 0.9982 - loss: 0.0377 - val_acc: 0.7911 - val_loss: 0.5447\n",
      "Epoch 47/50\n",
      "\u001b[1m53/53\u001b[0m \u001b[32m━━━━━━━━━━━━━━━━━━━━\u001b[0m\u001b[37m\u001b[0m \u001b[1m0s\u001b[0m 3ms/step - acc: 0.9970 - loss: 0.0359 - val_acc: 0.7946 - val_loss: 0.5451\n",
      "Epoch 48/50\n",
      "\u001b[1m53/53\u001b[0m \u001b[32m━━━━━━━━━━━━━━━━━━━━\u001b[0m\u001b[37m\u001b[0m \u001b[1m0s\u001b[0m 3ms/step - acc: 0.9989 - loss: 0.0337 - val_acc: 0.7911 - val_loss: 0.5489\n",
      "Epoch 49/50\n",
      "\u001b[1m53/53\u001b[0m \u001b[32m━━━━━━━━━━━━━━━━━━━━\u001b[0m\u001b[37m\u001b[0m \u001b[1m0s\u001b[0m 3ms/step - acc: 0.9985 - loss: 0.0325 - val_acc: 0.7857 - val_loss: 0.5613\n",
      "Epoch 50/50\n",
      "\u001b[1m53/53\u001b[0m \u001b[32m━━━━━━━━━━━━━━━━━━━━\u001b[0m\u001b[37m\u001b[0m \u001b[1m0s\u001b[0m 3ms/step - acc: 0.9976 - loss: 0.0339 - val_acc: 0.7964 - val_loss: 0.5590\n"
     ]
    }
   ],
   "source": [
    "num_epochs=50\n",
    "model = Sequential()\n",
    "model.add(Dense(units=64, activation='sigmoid',\n",
    "                input_dim=len(X_encoded[0])))\n",
    "model.add(Dense(units=len(Y_encoded[0]), activation='softmax'))\n",
    "model.compile(loss=categorical_crossentropy,metrics=['acc'],\n",
    "              optimizer=SGD(learning_rate=0.01,\n",
    "                            momentum=0.9, nesterov=True))\n",
    "history=model.fit(np.array(X_train), np.array(y_train), \n",
    "                  epochs=num_epochs, \n",
    "                  batch_size=16,\n",
    "                  validation_data=(X_test, y_test),\n",
    "                  verbose=1)"
   ]
  },
  {
   "cell_type": "markdown",
   "metadata": {
    "id": "12CMUFtWyr3l"
   },
   "source": [
    "## Display the learning curves\n",
    "\n",
    "Display on the **SAME** graph:\n",
    "\n",
    "1. **Loss vs Epoch** (Training and Validation)\n",
    "2. **Accuracy vs Epoch** (Training and Validation)"
   ]
  },
  {
   "cell_type": "code",
   "execution_count": 13,
   "metadata": {
    "colab": {
     "base_uri": "https://localhost:8080/",
     "height": 299
    },
    "id": "hWR8wgNPHfQd",
    "outputId": "fd5ce845-72df-4655-9432-bd4da0c79f99"
   },
   "outputs": [
    {
     "data": {
      "image/png": "[encoded data removed]",
      "text/plain": [
       "<Figure size 640x480 with 1 Axes>"
      ]
     },
     "metadata": {},
     "output_type": "display_data"
    }
   ],
   "source": [
    "def plot_graphs(H, metric):\n",
    "  plt.style.use(\"ggplot\")\n",
    "  plt.figure()\n",
    "  plt.plot(np.arange(0, num_epochs), H.history['acc'], label='train_acc')\n",
    "  plt.plot(np.arange(0, num_epochs), H.history['val_acc'], label='val_acc')\n",
    "  plt.plot(np.arange(0, num_epochs), H.history['loss'], label='train_loss')\n",
    "  plt.plot(np.arange(0, num_epochs), H.history['val_loss'], label='val_loss')\n",
    "  plt.title(\"Training Loss and Accuracy\")\n",
    "  plt.xlabel(\"Epoch #\" )\n",
    "  plt.ylabel(\"Loss/Accuracy\" )\n",
    "  plt.legend()\n",
    "  plt.savefig(\"model history\") #as evidence\n",
    "  plt.show( )\n",
    "plot_graphs(history,'acc')"
   ]
  },
  {
   "cell_type": "markdown",
   "metadata": {
    "id": "ON0gtMcdi4jg"
   },
   "source": [
    "## Use model to predict 'X_test'"
   ]
  },
  {
   "cell_type": "code",
   "execution_count": 14,
   "metadata": {
    "id": "19OkYT09Kq6z"
   },
   "outputs": [
    {
     "name": "stdout",
     "output_type": "stream",
     "text": [
      "\u001b[1m18/18\u001b[0m \u001b[32m━━━━━━━━━━━━━━━━━━━━\u001b[0m\u001b[37m\u001b[0m \u001b[1m0s\u001b[0m 3ms/step \n"
     ]
    }
   ],
   "source": [
    "preds = model.predict(X_test)"
   ]
  },
  {
   "cell_type": "markdown",
   "metadata": {
    "id": "zfkKli-zi9gu"
   },
   "source": [
    "## Use argmax() to get the highest probability class label from preds"
   ]
  },
  {
   "cell_type": "code",
   "execution_count": 15,
   "metadata": {
    "id": "KboqsFfsLLyl"
   },
   "outputs": [],
   "source": [
    "preds=[argmax(each) for each in preds]"
   ]
  },
  {
   "cell_type": "markdown",
   "metadata": {
    "id": "4MykvZQ9jBh0"
   },
   "source": [
    "## Use argmax() to get the class label from y_test"
   ]
  },
  {
   "cell_type": "code",
   "execution_count": 16,
   "metadata": {
    "id": "8gOPW9WTLY3h"
   },
   "outputs": [],
   "source": [
    "y_test_cm= [argmax(each) for each in y_test]\n"
   ]
  },
  {
   "cell_type": "markdown",
   "metadata": {
    "id": "SeHKnMY7zB6I"
   },
   "source": [
    "## Show Confusion Matrix \n",
    "\n",
    "Use sklearn's confusion_matrix function to create a confusion matrix. \n",
    "\n",
    "With the confusion matrix, create a pandas dataframe with:\n",
    "- **Columns** titled 'Positive', 'Negative'\n",
    "- **Index** titled 'Positive', 'Negative' "
   ]
  },
  {
   "cell_type": "code",
   "execution_count": 17,
   "metadata": {
    "colab": {
     "base_uri": "https://localhost:8080/",
     "height": 112
    },
    "id": "SFHAD9iEJ5Gs",
    "outputId": "26908274-2bb3-4bfa-f96a-38712317bf97"
   },
   "outputs": [
    {
     "data": {
      "text/html": [
       "<div>\n",
       "<style scoped>\n",
       "    .dataframe tbody tr th:only-of-type {\n",
       "        vertical-align: middle;\n",
       "    }\n",
       "\n",
       "    .dataframe tbody tr th {\n",
       "        vertical-align: top;\n",
       "    }\n",
       "\n",
       "    .dataframe thead th {\n",
       "        text-align: right;\n",
       "    }\n",
       "</style>\n",
       "<table border=\"1\" class=\"dataframe\">\n",
       "  <thead>\n",
       "    <tr style=\"text-align: right;\">\n",
       "      <th></th>\n",
       "      <th>Positive</th>\n",
       "      <th>Negative</th>\n",
       "    </tr>\n",
       "  </thead>\n",
       "  <tbody>\n",
       "    <tr>\n",
       "      <th>Positive</th>\n",
       "      <td>220</td>\n",
       "      <td>59</td>\n",
       "    </tr>\n",
       "    <tr>\n",
       "      <th>Negative</th>\n",
       "      <td>55</td>\n",
       "      <td>226</td>\n",
       "    </tr>\n",
       "  </tbody>\n",
       "</table>\n",
       "</div>"
      ],
      "text/plain": [
       "          Positive  Negative\n",
       "Positive       220        59\n",
       "Negative        55       226"
      ]
     },
     "execution_count": 17,
     "metadata": {},
     "output_type": "execute_result"
    }
   ],
   "source": [
    "cm = confusion_matrix(y_test_cm, preds)\n",
    "df_cm = pd.DataFrame(cm, index=['Positive','Negative'], columns=['Positive','Negative'])\n",
    "df_cm.head()"
   ]
  },
  {
   "cell_type": "markdown",
   "metadata": {
    "id": "Dkx1wPfp0Hez"
   },
   "source": [
    "## Show Classification Report"
   ]
  },
  {
   "cell_type": "code",
   "execution_count": 18,
   "metadata": {
    "colab": {
     "base_uri": "https://localhost:8080/"
    },
    "id": "lJmWnZXoMBiS",
    "outputId": "ef0be2c1-0cf0-4b9c-dbc7-cdfca5b50f88"
   },
   "outputs": [
    {
     "name": "stdout",
     "output_type": "stream",
     "text": [
      "              precision    recall  f1-score   support\n",
      "\n",
      "           0       0.80      0.79      0.79       279\n",
      "           1       0.79      0.80      0.80       281\n",
      "\n",
      "    accuracy                           0.80       560\n",
      "   macro avg       0.80      0.80      0.80       560\n",
      "weighted avg       0.80      0.80      0.80       560\n",
      "\n"
     ]
    }
   ],
   "source": [
    "print(classification_report(y_test_cm, preds))"
   ]
  },
  {
   "cell_type": "markdown",
   "metadata": {
    "id": "9TfpcHIN0VfP"
   },
   "source": [
    "# Question 1:\n",
    "What is your model's accuracy values?"
   ]
  },
  {
   "cell_type": "markdown",
   "metadata": {
    "id": "vLwqdwcn0icE"
   },
   "source": [
    "## Write your answer here:\n",
    "**#f1-score:**\n",
    "\n",
    "**#support:**"
   ]
  },
  {
   "cell_type": "markdown",
   "metadata": {
    "id": "zFRwvTs_CxcQ"
   },
   "source": [
    "## Make Prediction On New Text Reviews\n",
    "Write an appropriate code to predict whether the following text reviews are Positive or Negative and provide the probability in %.\n"
   ]
  },
  {
   "cell_type": "code",
   "execution_count": 19,
   "metadata": {
    "id": "RU-vTYYQOwSJ"
   },
   "outputs": [],
   "source": [
    "newPositiveText='ive wanted to build a pc all my life but been too scared of breaking something to try this week that ended with my first successful build big thanks to this video'\n",
    "newNegativeText='big tech having zero accountability has led to unbelievable levels of evil'"
   ]
  },
  {
   "cell_type": "code",
   "execution_count": 20,
   "metadata": {},
   "outputs": [],
   "source": [
    "def encode_new_sentence(sentence):\n",
    "    cleaned_sentence = clean(sentence)\n",
    "    sentence_encoded = vectorizer.transform([cleaned_sentence])\n",
    "    \n",
    "    return sentence_encoded\n",
    "\n",
    "def predict_results(sentence_encoded):\n",
    "    predictions = model.predict(sentence_encoded)\n",
    "    prediction_class = argmax(predictions[0])\n",
    "    if prediction_class == 0:\n",
    "        print('Prediction: Negative')\n",
    "    else:\n",
    "        print('Prediction: Positive')"
   ]
  },
  {
   "cell_type": "code",
   "execution_count": 21,
   "metadata": {},
   "outputs": [
    {
     "name": "stdout",
     "output_type": "stream",
     "text": [
      "Negative text: big tech having zero accountability has led to unbelievable levels of evil\n",
      "\u001b[1m1/1\u001b[0m \u001b[32m━━━━━━━━━━━━━━━━━━━━\u001b[0m\u001b[37m\u001b[0m \u001b[1m0s\u001b[0m 90ms/step\n",
      "Prediction: Negative\n",
      "\n",
      "Positive text: ive wanted to build a pc all my life but been too scared of breaking something to try this week that ended with my first successful build big thanks to this video\n",
      "\u001b[1m1/1\u001b[0m \u001b[32m━━━━━━━━━━━━━━━━━━━━\u001b[0m\u001b[37m\u001b[0m \u001b[1m0s\u001b[0m 53ms/step\n",
      "Prediction: Positive\n"
     ]
    }
   ],
   "source": [
    "print(\"Negative text:\", newNegativeText)\n",
    "predict_results(encode_new_sentence(newNegativeText))\n",
    "print(\"\\nPositive text:\", newPositiveText)\n",
    "predict_results(encode_new_sentence(newPositiveText))"
   ]
  },
  {
   "cell_type": "markdown",
   "metadata": {
    "id": "8Z7qrENB_Njl"
   },
   "source": [
    "# Question 2:\n",
    "State the type of NLP Classification used and breifly explain the reason for your answer."
   ]
  },
  {
   "cell_type": "markdown",
   "metadata": {
    "id": "9ilhzKGwBMuh"
   },
   "source": [
    "## Write your answer here:\n",
    "\n",
    "**#Classification Type:** \n",
    "\n",
    "**#Reason:** "
   ]
  }
 ],
 "metadata": {
  "colab": {
   "collapsed_sections": [],
   "name": "Solution_AI43004FP.ipynb",
   "provenance": []
  },
  "kernelspec": {
   "display_name": "NLP",
   "language": "python",
   "name": "python3"
  },
  "language_info": {
   "codemirror_mode": {
    "name": "ipython",
    "version": 3
   },
   "file_extension": ".py",
   "mimetype": "text/x-python",
   "name": "python",
   "nbconvert_exporter": "python",
   "pygments_lexer": "ipython3",
   "version": "3.10.16"
  }
 },
 "nbformat": 4,
 "nbformat_minor": 4
}
