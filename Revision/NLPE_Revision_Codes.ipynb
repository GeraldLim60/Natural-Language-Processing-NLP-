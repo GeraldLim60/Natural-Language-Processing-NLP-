{
 "cells": [
  {
   "cell_type": "markdown",
   "metadata": {
    "id": "-qmhEtsk4d00"
   },
   "source": [
    "# <FONT COLOR='red'> NLP REVISION"
   ]
  },
  {
   "cell_type": "markdown",
   "metadata": {
    "id": "_vT99ODN7wz-"
   },
   "source": [
    "### Install Libraries\n",
    "\n",
    "Complete the missing import statements."
   ]
  },
  {
   "cell_type": "code",
   "execution_count": 1,
   "metadata": {
    "id": "n2evB6SX4ZZ5"
   },
   "outputs": [],
   "source": [
    "import pandas as pd\n",
    "pd.set_option('display.max_colwidth', 200)\n",
    "\n",
    "# fill in function for train test split.\n",
    "from sklearn.model_selection import train_test_split\n",
    "\n",
    "from sklearn.feature_extraction.text import CountVectorizer\n",
    "\n",
    "# Use the Sequential class. \n",
    "from keras.models import Sequential\n",
    "\n",
    "# Select the correct crossentropy function for the task.\n",
    "from keras.losses import categorical_crossentropy # fill in answer\n",
    "\n",
    "from tensorflow.keras.optimizers import SGD\n",
    "from keras.layers import Dense\n",
    " \n",
    "from numpy import argmax\n",
    "import numpy as np\n",
    "import re\n",
    "\n",
    "import matplotlib.pyplot as plt\n",
    "# import confusion matrix and classification report\n",
    "from sklearn.metrics import confusion_matrix\n",
    "from sklearn.metrics import classification_report"
   ]
  },
  {
   "cell_type": "markdown",
   "metadata": {
    "id": "WuS6u41w712c"
   },
   "source": [
    "## Install Data\n",
    "\n",
    "1. Load the dataset **'fakenews.txt'** into a Pandas Dataframe.\n",
    "\n",
    "2. Set the columns names to 'News' and 'Label'.\n"
   ]
  },
  {
   "cell_type": "code",
   "execution_count": 2,
   "metadata": {
    "id": "v-pHgv-C7rEY"
   },
   "outputs": [
    {
     "data": {
      "text/html": [
       "<div>\n",
       "<style scoped>\n",
       "    .dataframe tbody tr th:only-of-type {\n",
       "        vertical-align: middle;\n",
       "    }\n",
       "\n",
       "    .dataframe tbody tr th {\n",
       "        vertical-align: top;\n",
       "    }\n",
       "\n",
       "    .dataframe thead th {\n",
       "        text-align: right;\n",
       "    }\n",
       "</style>\n",
       "<table border=\"1\" class=\"dataframe\">\n",
       "  <thead>\n",
       "    <tr style=\"text-align: right;\">\n",
       "      <th></th>\n",
       "      <th>News</th>\n",
       "      <th>Label</th>\n",
       "    </tr>\n",
       "  </thead>\n",
       "  <tbody>\n",
       "    <tr>\n",
       "      <th>0</th>\n",
       "      <td>Donald Trump just couldn t wish all Americans a Happy New Year and leave it at that. Instead, he had to give a shout out to his enemies, haters and  the very dishonest fake news media.  The former...</td>\n",
       "      <td>Fake</td>\n",
       "    </tr>\n",
       "    <tr>\n",
       "      <th>1</th>\n",
       "      <td>House Intelligence Committee Chairman Devin Nunes is going to have a bad day. He s been under the assumption, like many of us, that the Christopher Steele-dossier was what prompted the Russia inve...</td>\n",
       "      <td>Fake</td>\n",
       "    </tr>\n",
       "    <tr>\n",
       "      <th>2</th>\n",
       "      <td>On Friday, it was revealed that former Milwaukee Sheriff David Clarke, who was being considered for Homeland Security Secretary in Donald Trump s administration, has an email scandal of his own.In...</td>\n",
       "      <td>Fake</td>\n",
       "    </tr>\n",
       "    <tr>\n",
       "      <th>3</th>\n",
       "      <td>On Christmas day, Donald Trump announced that he would  be back to work  the following day, but he is golfing for the fourth day in a row. The former reality show star blasted former President Bar...</td>\n",
       "      <td>Fake</td>\n",
       "    </tr>\n",
       "    <tr>\n",
       "      <th>4</th>\n",
       "      <td>Pope Francis used his annual Christmas Day message to rebuke Donald Trump without even mentioning his name. The Pope delivered his message just days after members of the United Nations condemned T...</td>\n",
       "      <td>Fake</td>\n",
       "    </tr>\n",
       "  </tbody>\n",
       "</table>\n",
       "</div>"
      ],
      "text/plain": [
       "                                                                                                                                                                                                      News  \\\n",
       "0  Donald Trump just couldn t wish all Americans a Happy New Year and leave it at that. Instead, he had to give a shout out to his enemies, haters and  the very dishonest fake news media.  The former...   \n",
       "1  House Intelligence Committee Chairman Devin Nunes is going to have a bad day. He s been under the assumption, like many of us, that the Christopher Steele-dossier was what prompted the Russia inve...   \n",
       "2  On Friday, it was revealed that former Milwaukee Sheriff David Clarke, who was being considered for Homeland Security Secretary in Donald Trump s administration, has an email scandal of his own.In...   \n",
       "3  On Christmas day, Donald Trump announced that he would  be back to work  the following day, but he is golfing for the fourth day in a row. The former reality show star blasted former President Bar...   \n",
       "4  Pope Francis used his annual Christmas Day message to rebuke Donald Trump without even mentioning his name. The Pope delivered his message just days after members of the United Nations condemned T...   \n",
       "\n",
       "  Label  \n",
       "0  Fake  \n",
       "1  Fake  \n",
       "2  Fake  \n",
       "3  Fake  \n",
       "4  Fake  "
      ]
     },
     "execution_count": 2,
     "metadata": {},
     "output_type": "execute_result"
    }
   ],
   "source": [
    "COLUMN_NAMES=['News','Label']\n",
    "\n",
    "fake_news = pd.read_table('Fakenews.txt', sep=\"\\t\", names=COLUMN_NAMES, header=None)\n",
    "\n",
    "fake_news.head()"
   ]
  },
  {
   "cell_type": "markdown",
   "metadata": {
    "id": "e1C8YyUM9Qxa"
   },
   "source": [
    "## Show the first 10 rows of data"
   ]
  },
  {
   "cell_type": "code",
   "execution_count": 3,
   "metadata": {
    "colab": {
     "base_uri": "https://localhost:8080/",
     "height": 363
    },
    "id": "_cbdAJQ188Nm",
    "outputId": "b5a5517d-4bb5-409b-c94b-60d46d037434"
   },
   "outputs": [
    {
     "data": {
      "text/html": [
       "<div>\n",
       "<style scoped>\n",
       "    .dataframe tbody tr th:only-of-type {\n",
       "        vertical-align: middle;\n",
       "    }\n",
       "\n",
       "    .dataframe tbody tr th {\n",
       "        vertical-align: top;\n",
       "    }\n",
       "\n",
       "    .dataframe thead th {\n",
       "        text-align: right;\n",
       "    }\n",
       "</style>\n",
       "<table border=\"1\" class=\"dataframe\">\n",
       "  <thead>\n",
       "    <tr style=\"text-align: right;\">\n",
       "      <th></th>\n",
       "      <th>News</th>\n",
       "      <th>Label</th>\n",
       "    </tr>\n",
       "  </thead>\n",
       "  <tbody>\n",
       "    <tr>\n",
       "      <th>0</th>\n",
       "      <td>Donald Trump just couldn t wish all Americans a Happy New Year and leave it at that. Instead, he had to give a shout out to his enemies, haters and  the very dishonest fake news media.  The former...</td>\n",
       "      <td>Fake</td>\n",
       "    </tr>\n",
       "    <tr>\n",
       "      <th>1</th>\n",
       "      <td>House Intelligence Committee Chairman Devin Nunes is going to have a bad day. He s been under the assumption, like many of us, that the Christopher Steele-dossier was what prompted the Russia inve...</td>\n",
       "      <td>Fake</td>\n",
       "    </tr>\n",
       "    <tr>\n",
       "      <th>2</th>\n",
       "      <td>On Friday, it was revealed that former Milwaukee Sheriff David Clarke, who was being considered for Homeland Security Secretary in Donald Trump s administration, has an email scandal of his own.In...</td>\n",
       "      <td>Fake</td>\n",
       "    </tr>\n",
       "    <tr>\n",
       "      <th>3</th>\n",
       "      <td>On Christmas day, Donald Trump announced that he would  be back to work  the following day, but he is golfing for the fourth day in a row. The former reality show star blasted former President Bar...</td>\n",
       "      <td>Fake</td>\n",
       "    </tr>\n",
       "    <tr>\n",
       "      <th>4</th>\n",
       "      <td>Pope Francis used his annual Christmas Day message to rebuke Donald Trump without even mentioning his name. The Pope delivered his message just days after members of the United Nations condemned T...</td>\n",
       "      <td>Fake</td>\n",
       "    </tr>\n",
       "    <tr>\n",
       "      <th>5</th>\n",
       "      <td>The number of cases of cops brutalizing and killing people of color seems to see no end. Now, we have another case that needs to be shared far and wide. An Alabama woman by the name of Angela Will...</td>\n",
       "      <td>Fake</td>\n",
       "    </tr>\n",
       "    <tr>\n",
       "      <th>6</th>\n",
       "      <td>Donald Trump spent a good portion of his day at his golf club, marking the 84th day he s done so since taking the oath of office. It must have been a bad game because just after that, Trump lashed...</td>\n",
       "      <td>Fake</td>\n",
       "    </tr>\n",
       "    <tr>\n",
       "      <th>7</th>\n",
       "      <td>In the wake of yet another court decision that derailed Donald Trump s plan to bar Muslims from entering the United States, the New York Times published a report on Saturday morning detailing the ...</td>\n",
       "      <td>Fake</td>\n",
       "    </tr>\n",
       "    <tr>\n",
       "      <th>8</th>\n",
       "      <td>Many people have raised the alarm regarding the fact that Donald Trump is dangerously close to becoming an autocrat. The thing is, democracies become autocracies right under the people s noses, be...</td>\n",
       "      <td>Fake</td>\n",
       "    </tr>\n",
       "    <tr>\n",
       "      <th>9</th>\n",
       "      <td>Just when you might have thought we d get a break from watching people kiss Donald Trump s ass and stroke his ego ad nauseam, a pro-Trump group creates an ad that s nothing but people doing even m...</td>\n",
       "      <td>Fake</td>\n",
       "    </tr>\n",
       "  </tbody>\n",
       "</table>\n",
       "</div>"
      ],
      "text/plain": [
       "                                                                                                                                                                                                      News  \\\n",
       "0  Donald Trump just couldn t wish all Americans a Happy New Year and leave it at that. Instead, he had to give a shout out to his enemies, haters and  the very dishonest fake news media.  The former...   \n",
       "1  House Intelligence Committee Chairman Devin Nunes is going to have a bad day. He s been under the assumption, like many of us, that the Christopher Steele-dossier was what prompted the Russia inve...   \n",
       "2  On Friday, it was revealed that former Milwaukee Sheriff David Clarke, who was being considered for Homeland Security Secretary in Donald Trump s administration, has an email scandal of his own.In...   \n",
       "3  On Christmas day, Donald Trump announced that he would  be back to work  the following day, but he is golfing for the fourth day in a row. The former reality show star blasted former President Bar...   \n",
       "4  Pope Francis used his annual Christmas Day message to rebuke Donald Trump without even mentioning his name. The Pope delivered his message just days after members of the United Nations condemned T...   \n",
       "5  The number of cases of cops brutalizing and killing people of color seems to see no end. Now, we have another case that needs to be shared far and wide. An Alabama woman by the name of Angela Will...   \n",
       "6  Donald Trump spent a good portion of his day at his golf club, marking the 84th day he s done so since taking the oath of office. It must have been a bad game because just after that, Trump lashed...   \n",
       "7  In the wake of yet another court decision that derailed Donald Trump s plan to bar Muslims from entering the United States, the New York Times published a report on Saturday morning detailing the ...   \n",
       "8  Many people have raised the alarm regarding the fact that Donald Trump is dangerously close to becoming an autocrat. The thing is, democracies become autocracies right under the people s noses, be...   \n",
       "9  Just when you might have thought we d get a break from watching people kiss Donald Trump s ass and stroke his ego ad nauseam, a pro-Trump group creates an ad that s nothing but people doing even m...   \n",
       "\n",
       "  Label  \n",
       "0  Fake  \n",
       "1  Fake  \n",
       "2  Fake  \n",
       "3  Fake  \n",
       "4  Fake  \n",
       "5  Fake  \n",
       "6  Fake  \n",
       "7  Fake  \n",
       "8  Fake  \n",
       "9  Fake  "
      ]
     },
     "execution_count": 3,
     "metadata": {},
     "output_type": "execute_result"
    }
   ],
   "source": [
    "fake_news[:10]\n"
   ]
  },
  {
   "cell_type": "markdown",
   "metadata": {
    "id": "gkvpmytr9H5A"
   },
   "source": [
    "## Show count of each sentiment types\n",
    "\n",
    "Use value_counts() method."
   ]
  },
  {
   "cell_type": "code",
   "execution_count": 4,
   "metadata": {
    "colab": {
     "base_uri": "https://localhost:8080/"
    },
    "id": "MKm3D7nf9Avk",
    "outputId": "44372a75-f33b-47c6-b634-d7be763843a5"
   },
   "outputs": [
    {
     "data": {
      "text/plain": [
       "Label\n",
       "Fake    1000\n",
       "Real    1000\n",
       "Name: count, dtype: int64"
      ]
     },
     "execution_count": 4,
     "metadata": {},
     "output_type": "execute_result"
    }
   ],
   "source": [
    "# Count occurrences of each label\n",
    "fake_news[\"Label\"].value_counts()"
   ]
  },
  {
   "cell_type": "markdown",
   "metadata": {
    "id": "p1KpJpAb9mGs"
   },
   "source": [
    "## Define the classes\n",
    "\n",
    "1. Assign amazon's sentiment count to a panda series object called 'amazon_counts'\n",
    "\n",
    "2.  Change 'amazon_counts' index from 0 to 'Negative' and 1 to 'Positive'."
   ]
  },
  {
   "cell_type": "code",
   "execution_count": 5,
   "metadata": {
    "colab": {
     "base_uri": "https://localhost:8080/",
     "height": 112
    },
    "id": "MJy61gv79l1O",
    "outputId": "8b9ca8f2-5537-4db7-9450-91f90020b369"
   },
   "outputs": [
    {
     "data": {
      "text/html": [
       "<div>\n",
       "<style scoped>\n",
       "    .dataframe tbody tr th:only-of-type {\n",
       "        vertical-align: middle;\n",
       "    }\n",
       "\n",
       "    .dataframe tbody tr th {\n",
       "        vertical-align: top;\n",
       "    }\n",
       "\n",
       "    .dataframe thead th {\n",
       "        text-align: right;\n",
       "    }\n",
       "</style>\n",
       "<table border=\"1\" class=\"dataframe\">\n",
       "  <thead>\n",
       "    <tr style=\"text-align: right;\">\n",
       "      <th></th>\n",
       "      <th>count</th>\n",
       "    </tr>\n",
       "    <tr>\n",
       "      <th>Label</th>\n",
       "      <th></th>\n",
       "    </tr>\n",
       "  </thead>\n",
       "  <tbody>\n",
       "    <tr>\n",
       "      <th>Fake</th>\n",
       "      <td>1000</td>\n",
       "    </tr>\n",
       "    <tr>\n",
       "      <th>Real</th>\n",
       "      <td>1000</td>\n",
       "    </tr>\n",
       "  </tbody>\n",
       "</table>\n",
       "</div>"
      ],
      "text/plain": [
       "       count\n",
       "Label       \n",
       "Fake    1000\n",
       "Real    1000"
      ]
     },
     "execution_count": 5,
     "metadata": {},
     "output_type": "execute_result"
    }
   ],
   "source": [
    "fakenews_counts=fake_news.Label.value_counts().to_frame()\n",
    "fakenews_counts\n"
   ]
  },
  {
   "cell_type": "code",
   "execution_count": 6,
   "metadata": {},
   "outputs": [
    {
     "data": {
      "text/html": [
       "<div>\n",
       "<style scoped>\n",
       "    .dataframe tbody tr th:only-of-type {\n",
       "        vertical-align: middle;\n",
       "    }\n",
       "\n",
       "    .dataframe tbody tr th {\n",
       "        vertical-align: top;\n",
       "    }\n",
       "\n",
       "    .dataframe thead th {\n",
       "        text-align: right;\n",
       "    }\n",
       "</style>\n",
       "<table border=\"1\" class=\"dataframe\">\n",
       "  <thead>\n",
       "    <tr style=\"text-align: right;\">\n",
       "      <th></th>\n",
       "      <th>count</th>\n",
       "    </tr>\n",
       "  </thead>\n",
       "  <tbody>\n",
       "    <tr>\n",
       "      <th>Negative</th>\n",
       "      <td>1000</td>\n",
       "    </tr>\n",
       "    <tr>\n",
       "      <th>Positive</th>\n",
       "      <td>1000</td>\n",
       "    </tr>\n",
       "  </tbody>\n",
       "</table>\n",
       "</div>"
      ],
      "text/plain": [
       "          count\n",
       "Negative   1000\n",
       "Positive   1000"
      ]
     },
     "execution_count": 6,
     "metadata": {},
     "output_type": "execute_result"
    }
   ],
   "source": [
    "fakenews_counts.index= ['Negative', 'Positive']\n",
    "fakenews_counts"
   ]
  },
  {
   "cell_type": "markdown",
   "metadata": {
    "id": "MTZ8z6XsfkQl"
   },
   "source": [
    "## Assign X to 'News' and y to 'Label'."
   ]
  },
  {
   "cell_type": "code",
   "execution_count": 7,
   "metadata": {
    "id": "fFLIg4j9FUGW"
   },
   "outputs": [],
   "source": [
    "# Features (News text)\n",
    "X = fake_news['News']\n",
    "\n",
    "# Labels (Fake/Real or Negative/Positive)\n",
    "y = fake_news['Label']\n"
   ]
  },
  {
   "cell_type": "markdown",
   "metadata": {
    "id": "nLUD__Oyfv6a"
   },
   "source": [
    "## Create the vocabulary of the dataset. "
   ]
  },
  {
   "cell_type": "code",
   "execution_count": 8,
   "metadata": {
    "id": "DZHbgXU9F_OD"
   },
   "outputs": [],
   "source": [
    "vocabulary = set()\n",
    "for data_point in X:\n",
    "    for word in data_point.split(' '):\n",
    "        vocabulary.add(word)\n",
    "\n",
    "vocabulary = list(vocabulary)"
   ]
  },
  {
   "cell_type": "markdown",
   "metadata": {
    "id": "4S2awDRUgBSe"
   },
   "source": [
    "## Show the first 5 vocabulary."
   ]
  },
  {
   "cell_type": "code",
   "execution_count": 9,
   "metadata": {
    "colab": {
     "base_uri": "https://localhost:8080/"
    },
    "id": "LsOHP-WDLywu",
    "outputId": "4e0b9297-0579-41ac-d130-83ce31355fb6"
   },
   "outputs": [
    {
     "data": {
      "text/plain": [
       "['', 'law.Donald', 'Minneapolis,', 'Lewandowski.', 'amount.']"
      ]
     },
     "execution_count": 9,
     "metadata": {},
     "output_type": "execute_result"
    }
   ],
   "source": [
    "#fill in answer\n",
    "vocabulary[:5]"
   ]
  },
  {
   "cell_type": "code",
   "execution_count": 10,
   "metadata": {
    "colab": {
     "base_uri": "https://localhost:8080/"
    },
    "id": "1wQn5HlpGbvW",
    "outputId": "79dd558e-f0d7-4166-e665-62a7b55ce0b9"
   },
   "outputs": [
    {
     "data": {
      "text/plain": [
       "60466"
      ]
     },
     "execution_count": 10,
     "metadata": {},
     "output_type": "execute_result"
    }
   ],
   "source": [
    "len(vocabulary)"
   ]
  },
  {
   "cell_type": "markdown",
   "metadata": {
    "id": "P1UQuGkbEmvq"
   },
   "source": [
    "## Create Document Vectors"
   ]
  },
  {
   "cell_type": "code",
   "execution_count": 11,
   "metadata": {},
   "outputs": [],
   "source": [
    "from sklearn.preprocessing import LabelEncoder\n",
    "\n",
    "\n",
    "vectorizer = CountVectorizer(vocabulary=vocabulary)\n",
    "\n",
    "\n",
    "X_encoded = vectorizer.transform(X).toarray()"
   ]
  },
  {
   "cell_type": "code",
   "execution_count": 12,
   "metadata": {
    "colab": {
     "base_uri": "https://localhost:8080/"
    },
    "id": "FVT6ssBLGPXL",
    "outputId": "c9bea934-b457-4bba-a541-6ac65e9d3602"
   },
   "outputs": [
    {
     "data": {
      "text/plain": [
       "2000"
      ]
     },
     "execution_count": 12,
     "metadata": {},
     "output_type": "execute_result"
    }
   ],
   "source": [
    "len(X_encoded)"
   ]
  },
  {
   "cell_type": "code",
   "execution_count": 13,
   "metadata": {},
   "outputs": [
    {
     "data": {
      "text/plain": [
       "array([[ True, False],\n",
       "       [ True, False],\n",
       "       [ True, False],\n",
       "       ...,\n",
       "       [False,  True],\n",
       "       [False,  True],\n",
       "       [False,  True]])"
      ]
     },
     "execution_count": 13,
     "metadata": {},
     "output_type": "execute_result"
    }
   ],
   "source": [
    "# Use one-hot encoding to dummify y\n",
    "y_encoded = pd.get_dummies(y).values\n",
    "\n",
    "y_encoded"
   ]
  },
  {
   "cell_type": "markdown",
   "metadata": {
    "id": "v4T9sv_xEzc_"
   },
   "source": [
    "## Split into train, test sets. 70% for training, 30% for testing. \n",
    "\n",
    "1. Use the train_test_split() function. "
   ]
  },
  {
   "cell_type": "code",
   "execution_count": 14,
   "metadata": {
    "id": "XXzOJ1CgEtbH"
   },
   "outputs": [],
   "source": [
    "X_train, X_test, y_train, y_test = train_test_split(X_encoded, y_encoded, test_size=0.3, random_state=42)"
   ]
  },
  {
   "cell_type": "code",
   "execution_count": 15,
   "metadata": {},
   "outputs": [
    {
     "data": {
      "text/plain": [
       "2000"
      ]
     },
     "execution_count": 15,
     "metadata": {},
     "output_type": "execute_result"
    }
   ],
   "source": [
    "len(X_encoded)"
   ]
  },
  {
   "cell_type": "code",
   "execution_count": 16,
   "metadata": {},
   "outputs": [
    {
     "data": {
      "text/plain": [
       "60466"
      ]
     },
     "execution_count": 16,
     "metadata": {},
     "output_type": "execute_result"
    }
   ],
   "source": [
    "len(X_train[1])"
   ]
  },
  {
   "cell_type": "code",
   "execution_count": 17,
   "metadata": {},
   "outputs": [
    {
     "data": {
      "text/plain": [
       "60466"
      ]
     },
     "execution_count": 17,
     "metadata": {},
     "output_type": "execute_result"
    }
   ],
   "source": [
    "len(X_test[0])"
   ]
  },
  {
   "cell_type": "code",
   "execution_count": 18,
   "metadata": {},
   "outputs": [
    {
     "data": {
      "text/plain": [
       "2"
      ]
     },
     "execution_count": 18,
     "metadata": {},
     "output_type": "execute_result"
    }
   ],
   "source": [
    "len(y_train[0])"
   ]
  },
  {
   "cell_type": "code",
   "execution_count": 19,
   "metadata": {
    "colab": {
     "base_uri": "https://localhost:8080/"
    },
    "id": "1ZRIgwhdEtYx",
    "outputId": "f1e61fcb-250b-4d9e-faa8-ab0037150e63",
    "scrolled": true
   },
   "outputs": [
    {
     "name": "stderr",
     "output_type": "stream",
     "text": [
      "c:\\Users\\Gerald Lim\\anaconda3\\envs\\NLP\\lib\\site-packages\\keras\\src\\layers\\core\\dense.py:87: UserWarning: Do not pass an `input_shape`/`input_dim` argument to a layer. When using Sequential models, prefer using an `Input(shape)` object as the first layer in the model instead.\n",
      "  super().__init__(activity_regularizer=activity_regularizer, **kwargs)\n"
     ]
    },
    {
     "name": "stdout",
     "output_type": "stream",
     "text": [
      "Epoch 1/60\n",
      "\u001b[1m88/88\u001b[0m \u001b[32m━━━━━━━━━━━━━━━━━━━━\u001b[0m\u001b[37m\u001b[0m \u001b[1m1s\u001b[0m 12ms/step - acc: 0.8719 - loss: 0.3352 - val_acc: 0.9817 - val_loss: 0.0764\n",
      "Epoch 2/60\n",
      "\u001b[1m88/88\u001b[0m \u001b[32m━━━━━━━━━━━━━━━━━━━━\u001b[0m\u001b[37m\u001b[0m \u001b[1m1s\u001b[0m 9ms/step - acc: 0.9823 - loss: 0.0645 - val_acc: 0.9833 - val_loss: 0.0565\n",
      "Epoch 3/60\n",
      "\u001b[1m88/88\u001b[0m \u001b[32m━━━━━━━━━━━━━━━━━━━━\u001b[0m\u001b[37m\u001b[0m \u001b[1m1s\u001b[0m 9ms/step - acc: 0.9954 - loss: 0.0289 - val_acc: 0.9733 - val_loss: 0.0720\n",
      "Epoch 4/60\n",
      "\u001b[1m88/88\u001b[0m \u001b[32m━━━━━━━━━━━━━━━━━━━━\u001b[0m\u001b[37m\u001b[0m \u001b[1m1s\u001b[0m 10ms/step - acc: 0.9958 - loss: 0.0242 - val_acc: 0.9817 - val_loss: 0.0479\n",
      "Epoch 5/60\n",
      "\u001b[1m88/88\u001b[0m \u001b[32m━━━━━━━━━━━━━━━━━━━━\u001b[0m\u001b[37m\u001b[0m \u001b[1m1s\u001b[0m 10ms/step - acc: 1.0000 - loss: 0.0103 - val_acc: 0.9850 - val_loss: 0.0416\n",
      "Epoch 6/60\n",
      "\u001b[1m88/88\u001b[0m \u001b[32m━━━━━━━━━━━━━━━━━━━━\u001b[0m\u001b[37m\u001b[0m \u001b[1m1s\u001b[0m 9ms/step - acc: 1.0000 - loss: 0.0089 - val_acc: 0.9833 - val_loss: 0.0414\n",
      "Epoch 7/60\n",
      "\u001b[1m88/88\u001b[0m \u001b[32m━━━━━━━━━━━━━━━━━━━━\u001b[0m\u001b[37m\u001b[0m \u001b[1m1s\u001b[0m 10ms/step - acc: 1.0000 - loss: 0.0070 - val_acc: 0.9850 - val_loss: 0.0401\n",
      "Epoch 8/60\n",
      "\u001b[1m88/88\u001b[0m \u001b[32m━━━━━━━━━━━━━━━━━━━━\u001b[0m\u001b[37m\u001b[0m \u001b[1m1s\u001b[0m 10ms/step - acc: 1.0000 - loss: 0.0055 - val_acc: 0.9850 - val_loss: 0.0401\n",
      "Epoch 9/60\n",
      "\u001b[1m88/88\u001b[0m \u001b[32m━━━━━━━━━━━━━━━━━━━━\u001b[0m\u001b[37m\u001b[0m \u001b[1m1s\u001b[0m 8ms/step - acc: 1.0000 - loss: 0.0044 - val_acc: 0.9850 - val_loss: 0.0395\n",
      "Epoch 10/60\n",
      "\u001b[1m88/88\u001b[0m \u001b[32m━━━━━━━━━━━━━━━━━━━━\u001b[0m\u001b[37m\u001b[0m \u001b[1m1s\u001b[0m 12ms/step - acc: 1.0000 - loss: 0.0044 - val_acc: 0.9850 - val_loss: 0.0395\n",
      "Epoch 11/60\n",
      "\u001b[1m88/88\u001b[0m \u001b[32m━━━━━━━━━━━━━━━━━━━━\u001b[0m\u001b[37m\u001b[0m \u001b[1m1s\u001b[0m 12ms/step - acc: 1.0000 - loss: 0.0036 - val_acc: 0.9850 - val_loss: 0.0397\n",
      "Epoch 12/60\n",
      "\u001b[1m88/88\u001b[0m \u001b[32m━━━━━━━━━━━━━━━━━━━━\u001b[0m\u001b[37m\u001b[0m \u001b[1m1s\u001b[0m 12ms/step - acc: 1.0000 - loss: 0.0031 - val_acc: 0.9850 - val_loss: 0.0396\n",
      "Epoch 13/60\n",
      "\u001b[1m88/88\u001b[0m \u001b[32m━━━━━━━━━━━━━━━━━━━━\u001b[0m\u001b[37m\u001b[0m \u001b[1m1s\u001b[0m 13ms/step - acc: 1.0000 - loss: 0.0030 - val_acc: 0.9850 - val_loss: 0.0397\n",
      "Epoch 14/60\n",
      "\u001b[1m88/88\u001b[0m \u001b[32m━━━━━━━━━━━━━━━━━━━━\u001b[0m\u001b[37m\u001b[0m \u001b[1m1s\u001b[0m 12ms/step - acc: 1.0000 - loss: 0.0027 - val_acc: 0.9833 - val_loss: 0.0412\n",
      "Epoch 15/60\n",
      "\u001b[1m88/88\u001b[0m \u001b[32m━━━━━━━━━━━━━━━━━━━━\u001b[0m\u001b[37m\u001b[0m \u001b[1m1s\u001b[0m 15ms/step - acc: 1.0000 - loss: 0.0022 - val_acc: 0.9850 - val_loss: 0.0398\n",
      "Epoch 16/60\n",
      "\u001b[1m88/88\u001b[0m \u001b[32m━━━━━━━━━━━━━━━━━━━━\u001b[0m\u001b[37m\u001b[0m \u001b[1m1s\u001b[0m 8ms/step - acc: 1.0000 - loss: 0.0019 - val_acc: 0.9867 - val_loss: 0.0396\n",
      "Epoch 17/60\n",
      "\u001b[1m88/88\u001b[0m \u001b[32m━━━━━━━━━━━━━━━━━━━━\u001b[0m\u001b[37m\u001b[0m \u001b[1m1s\u001b[0m 8ms/step - acc: 1.0000 - loss: 0.0020 - val_acc: 0.9883 - val_loss: 0.0398\n",
      "Epoch 18/60\n",
      "\u001b[1m88/88\u001b[0m \u001b[32m━━━━━━━━━━━━━━━━━━━━\u001b[0m\u001b[37m\u001b[0m \u001b[1m1s\u001b[0m 8ms/step - acc: 1.0000 - loss: 0.0019 - val_acc: 0.9867 - val_loss: 0.0399\n",
      "Epoch 19/60\n",
      "\u001b[1m88/88\u001b[0m \u001b[32m━━━━━━━━━━━━━━━━━━━━\u001b[0m\u001b[37m\u001b[0m \u001b[1m1s\u001b[0m 9ms/step - acc: 1.0000 - loss: 0.0018 - val_acc: 0.9883 - val_loss: 0.0400\n",
      "Epoch 20/60\n",
      "\u001b[1m88/88\u001b[0m \u001b[32m━━━━━━━━━━━━━━━━━━━━\u001b[0m\u001b[37m\u001b[0m \u001b[1m1s\u001b[0m 8ms/step - acc: 1.0000 - loss: 0.0016 - val_acc: 0.9867 - val_loss: 0.0401\n",
      "Epoch 21/60\n",
      "\u001b[1m88/88\u001b[0m \u001b[32m━━━━━━━━━━━━━━━━━━━━\u001b[0m\u001b[37m\u001b[0m \u001b[1m1s\u001b[0m 8ms/step - acc: 1.0000 - loss: 0.0015 - val_acc: 0.9867 - val_loss: 0.0405\n",
      "Epoch 22/60\n",
      "\u001b[1m88/88\u001b[0m \u001b[32m━━━━━━━━━━━━━━━━━━━━\u001b[0m\u001b[37m\u001b[0m \u001b[1m1s\u001b[0m 8ms/step - acc: 1.0000 - loss: 0.0016 - val_acc: 0.9867 - val_loss: 0.0406\n",
      "Epoch 23/60\n",
      "\u001b[1m88/88\u001b[0m \u001b[32m━━━━━━━━━━━━━━━━━━━━\u001b[0m\u001b[37m\u001b[0m \u001b[1m1s\u001b[0m 8ms/step - acc: 1.0000 - loss: 0.0016 - val_acc: 0.9867 - val_loss: 0.0407\n",
      "Epoch 24/60\n",
      "\u001b[1m88/88\u001b[0m \u001b[32m━━━━━━━━━━━━━━━━━━━━\u001b[0m\u001b[37m\u001b[0m \u001b[1m1s\u001b[0m 8ms/step - acc: 1.0000 - loss: 0.0013 - val_acc: 0.9867 - val_loss: 0.0405\n",
      "Epoch 25/60\n",
      "\u001b[1m88/88\u001b[0m \u001b[32m━━━━━━━━━━━━━━━━━━━━\u001b[0m\u001b[37m\u001b[0m \u001b[1m1s\u001b[0m 8ms/step - acc: 1.0000 - loss: 0.0013 - val_acc: 0.9883 - val_loss: 0.0406\n",
      "Epoch 26/60\n",
      "\u001b[1m88/88\u001b[0m \u001b[32m━━━━━━━━━━━━━━━━━━━━\u001b[0m\u001b[37m\u001b[0m \u001b[1m1s\u001b[0m 8ms/step - acc: 1.0000 - loss: 0.0011 - val_acc: 0.9867 - val_loss: 0.0408\n",
      "Epoch 27/60\n",
      "\u001b[1m88/88\u001b[0m \u001b[32m━━━━━━━━━━━━━━━━━━━━\u001b[0m\u001b[37m\u001b[0m \u001b[1m1s\u001b[0m 8ms/step - acc: 1.0000 - loss: 0.0012 - val_acc: 0.9883 - val_loss: 0.0408\n",
      "Epoch 28/60\n",
      "\u001b[1m88/88\u001b[0m \u001b[32m━━━━━━━━━━━━━━━━━━━━\u001b[0m\u001b[37m\u001b[0m \u001b[1m1s\u001b[0m 9ms/step - acc: 1.0000 - loss: 0.0013 - val_acc: 0.9867 - val_loss: 0.0409\n",
      "Epoch 29/60\n",
      "\u001b[1m88/88\u001b[0m \u001b[32m━━━━━━━━━━━━━━━━━━━━\u001b[0m\u001b[37m\u001b[0m \u001b[1m1s\u001b[0m 8ms/step - acc: 1.0000 - loss: 0.0011 - val_acc: 0.9867 - val_loss: 0.0411\n",
      "Epoch 30/60\n",
      "\u001b[1m88/88\u001b[0m \u001b[32m━━━━━━━━━━━━━━━━━━━━\u001b[0m\u001b[37m\u001b[0m \u001b[1m1s\u001b[0m 8ms/step - acc: 1.0000 - loss: 9.3592e-04 - val_acc: 0.9883 - val_loss: 0.0411\n",
      "Epoch 31/60\n",
      "\u001b[1m88/88\u001b[0m \u001b[32m━━━━━━━━━━━━━━━━━━━━\u001b[0m\u001b[37m\u001b[0m \u001b[1m1s\u001b[0m 8ms/step - acc: 1.0000 - loss: 8.8690e-04 - val_acc: 0.9867 - val_loss: 0.0412\n",
      "Epoch 32/60\n",
      "\u001b[1m88/88\u001b[0m \u001b[32m━━━━━━━━━━━━━━━━━━━━\u001b[0m\u001b[37m\u001b[0m \u001b[1m1s\u001b[0m 8ms/step - acc: 1.0000 - loss: 0.0010 - val_acc: 0.9883 - val_loss: 0.0413\n",
      "Epoch 33/60\n",
      "\u001b[1m88/88\u001b[0m \u001b[32m━━━━━━━━━━━━━━━━━━━━\u001b[0m\u001b[37m\u001b[0m \u001b[1m1s\u001b[0m 8ms/step - acc: 1.0000 - loss: 9.2273e-04 - val_acc: 0.9867 - val_loss: 0.0415\n",
      "Epoch 34/60\n",
      "\u001b[1m88/88\u001b[0m \u001b[32m━━━━━━━━━━━━━━━━━━━━\u001b[0m\u001b[37m\u001b[0m \u001b[1m1s\u001b[0m 8ms/step - acc: 1.0000 - loss: 0.0010 - val_acc: 0.9867 - val_loss: 0.0418\n",
      "Epoch 35/60\n",
      "\u001b[1m88/88\u001b[0m \u001b[32m━━━━━━━━━━━━━━━━━━━━\u001b[0m\u001b[37m\u001b[0m \u001b[1m1s\u001b[0m 8ms/step - acc: 1.0000 - loss: 9.5854e-04 - val_acc: 0.9867 - val_loss: 0.0416\n",
      "Epoch 36/60\n",
      "\u001b[1m88/88\u001b[0m \u001b[32m━━━━━━━━━━━━━━━━━━━━\u001b[0m\u001b[37m\u001b[0m \u001b[1m1s\u001b[0m 8ms/step - acc: 1.0000 - loss: 8.3194e-04 - val_acc: 0.9867 - val_loss: 0.0418\n",
      "Epoch 37/60\n",
      "\u001b[1m88/88\u001b[0m \u001b[32m━━━━━━━━━━━━━━━━━━━━\u001b[0m\u001b[37m\u001b[0m \u001b[1m1s\u001b[0m 8ms/step - acc: 1.0000 - loss: 7.8102e-04 - val_acc: 0.9867 - val_loss: 0.0418\n",
      "Epoch 38/60\n",
      "\u001b[1m88/88\u001b[0m \u001b[32m━━━━━━━━━━━━━━━━━━━━\u001b[0m\u001b[37m\u001b[0m \u001b[1m1s\u001b[0m 8ms/step - acc: 1.0000 - loss: 8.2649e-04 - val_acc: 0.9867 - val_loss: 0.0418\n",
      "Epoch 39/60\n",
      "\u001b[1m88/88\u001b[0m \u001b[32m━━━━━━━━━━━━━━━━━━━━\u001b[0m\u001b[37m\u001b[0m \u001b[1m1s\u001b[0m 8ms/step - acc: 1.0000 - loss: 7.2824e-04 - val_acc: 0.9867 - val_loss: 0.0422\n",
      "Epoch 40/60\n",
      "\u001b[1m88/88\u001b[0m \u001b[32m━━━━━━━━━━━━━━━━━━━━\u001b[0m\u001b[37m\u001b[0m \u001b[1m1s\u001b[0m 8ms/step - acc: 1.0000 - loss: 8.1757e-04 - val_acc: 0.9867 - val_loss: 0.0421\n",
      "Epoch 41/60\n",
      "\u001b[1m88/88\u001b[0m \u001b[32m━━━━━━━━━━━━━━━━━━━━\u001b[0m\u001b[37m\u001b[0m \u001b[1m1s\u001b[0m 8ms/step - acc: 1.0000 - loss: 7.1605e-04 - val_acc: 0.9883 - val_loss: 0.0420\n",
      "Epoch 42/60\n",
      "\u001b[1m88/88\u001b[0m \u001b[32m━━━━━━━━━━━━━━━━━━━━\u001b[0m\u001b[37m\u001b[0m \u001b[1m1s\u001b[0m 8ms/step - acc: 1.0000 - loss: 7.6519e-04 - val_acc: 0.9867 - val_loss: 0.0422\n",
      "Epoch 43/60\n",
      "\u001b[1m88/88\u001b[0m \u001b[32m━━━━━━━━━━━━━━━━━━━━\u001b[0m\u001b[37m\u001b[0m \u001b[1m1s\u001b[0m 8ms/step - acc: 1.0000 - loss: 6.3647e-04 - val_acc: 0.9867 - val_loss: 0.0422\n",
      "Epoch 44/60\n",
      "\u001b[1m88/88\u001b[0m \u001b[32m━━━━━━━━━━━━━━━━━━━━\u001b[0m\u001b[37m\u001b[0m \u001b[1m1s\u001b[0m 8ms/step - acc: 1.0000 - loss: 6.4206e-04 - val_acc: 0.9867 - val_loss: 0.0422\n",
      "Epoch 45/60\n",
      "\u001b[1m88/88\u001b[0m \u001b[32m━━━━━━━━━━━━━━━━━━━━\u001b[0m\u001b[37m\u001b[0m \u001b[1m1s\u001b[0m 8ms/step - acc: 1.0000 - loss: 5.7559e-04 - val_acc: 0.9867 - val_loss: 0.0423\n",
      "Epoch 46/60\n",
      "\u001b[1m88/88\u001b[0m \u001b[32m━━━━━━━━━━━━━━━━━━━━\u001b[0m\u001b[37m\u001b[0m \u001b[1m1s\u001b[0m 8ms/step - acc: 1.0000 - loss: 5.7892e-04 - val_acc: 0.9867 - val_loss: 0.0424\n",
      "Epoch 47/60\n",
      "\u001b[1m88/88\u001b[0m \u001b[32m━━━━━━━━━━━━━━━━━━━━\u001b[0m\u001b[37m\u001b[0m \u001b[1m1s\u001b[0m 9ms/step - acc: 1.0000 - loss: 6.9370e-04 - val_acc: 0.9883 - val_loss: 0.0423\n",
      "Epoch 48/60\n",
      "\u001b[1m88/88\u001b[0m \u001b[32m━━━━━━━━━━━━━━━━━━━━\u001b[0m\u001b[37m\u001b[0m \u001b[1m1s\u001b[0m 8ms/step - acc: 1.0000 - loss: 6.6526e-04 - val_acc: 0.9867 - val_loss: 0.0425\n",
      "Epoch 49/60\n",
      "\u001b[1m88/88\u001b[0m \u001b[32m━━━━━━━━━━━━━━━━━━━━\u001b[0m\u001b[37m\u001b[0m \u001b[1m1s\u001b[0m 8ms/step - acc: 1.0000 - loss: 5.8688e-04 - val_acc: 0.9883 - val_loss: 0.0424\n",
      "Epoch 50/60\n",
      "\u001b[1m88/88\u001b[0m \u001b[32m━━━━━━━━━━━━━━━━━━━━\u001b[0m\u001b[37m\u001b[0m \u001b[1m1s\u001b[0m 9ms/step - acc: 1.0000 - loss: 5.6273e-04 - val_acc: 0.9867 - val_loss: 0.0425\n",
      "Epoch 51/60\n",
      "\u001b[1m88/88\u001b[0m \u001b[32m━━━━━━━━━━━━━━━━━━━━\u001b[0m\u001b[37m\u001b[0m \u001b[1m1s\u001b[0m 9ms/step - acc: 1.0000 - loss: 6.2849e-04 - val_acc: 0.9867 - val_loss: 0.0427\n",
      "Epoch 52/60\n",
      "\u001b[1m88/88\u001b[0m \u001b[32m━━━━━━━━━━━━━━━━━━━━\u001b[0m\u001b[37m\u001b[0m \u001b[1m1s\u001b[0m 9ms/step - acc: 1.0000 - loss: 5.4503e-04 - val_acc: 0.9867 - val_loss: 0.0426\n",
      "Epoch 53/60\n",
      "\u001b[1m88/88\u001b[0m \u001b[32m━━━━━━━━━━━━━━━━━━━━\u001b[0m\u001b[37m\u001b[0m \u001b[1m1s\u001b[0m 8ms/step - acc: 1.0000 - loss: 5.7329e-04 - val_acc: 0.9867 - val_loss: 0.0427\n",
      "Epoch 54/60\n",
      "\u001b[1m88/88\u001b[0m \u001b[32m━━━━━━━━━━━━━━━━━━━━\u001b[0m\u001b[37m\u001b[0m \u001b[1m1s\u001b[0m 8ms/step - acc: 1.0000 - loss: 5.3131e-04 - val_acc: 0.9867 - val_loss: 0.0429\n",
      "Epoch 55/60\n",
      "\u001b[1m88/88\u001b[0m \u001b[32m━━━━━━━━━━━━━━━━━━━━\u001b[0m\u001b[37m\u001b[0m \u001b[1m1s\u001b[0m 9ms/step - acc: 1.0000 - loss: 4.7578e-04 - val_acc: 0.9867 - val_loss: 0.0427\n",
      "Epoch 56/60\n",
      "\u001b[1m88/88\u001b[0m \u001b[32m━━━━━━━━━━━━━━━━━━━━\u001b[0m\u001b[37m\u001b[0m \u001b[1m1s\u001b[0m 8ms/step - acc: 1.0000 - loss: 4.3535e-04 - val_acc: 0.9867 - val_loss: 0.0428\n",
      "Epoch 57/60\n",
      "\u001b[1m88/88\u001b[0m \u001b[32m━━━━━━━━━━━━━━━━━━━━\u001b[0m\u001b[37m\u001b[0m \u001b[1m1s\u001b[0m 9ms/step - acc: 1.0000 - loss: 4.8137e-04 - val_acc: 0.9867 - val_loss: 0.0429\n",
      "Epoch 58/60\n",
      "\u001b[1m88/88\u001b[0m \u001b[32m━━━━━━━━━━━━━━━━━━━━\u001b[0m\u001b[37m\u001b[0m \u001b[1m1s\u001b[0m 8ms/step - acc: 1.0000 - loss: 4.4954e-04 - val_acc: 0.9867 - val_loss: 0.0430\n",
      "Epoch 59/60\n",
      "\u001b[1m88/88\u001b[0m \u001b[32m━━━━━━━━━━━━━━━━━━━━\u001b[0m\u001b[37m\u001b[0m \u001b[1m1s\u001b[0m 8ms/step - acc: 1.0000 - loss: 4.4944e-04 - val_acc: 0.9867 - val_loss: 0.0431\n",
      "Epoch 60/60\n",
      "\u001b[1m88/88\u001b[0m \u001b[32m━━━━━━━━━━━━━━━━━━━━\u001b[0m\u001b[37m\u001b[0m \u001b[1m1s\u001b[0m 8ms/step - acc: 1.0000 - loss: 4.4118e-04 - val_acc: 0.9867 - val_loss: 0.0433\n"
     ]
    }
   ],
   "source": [
    "num_epochs = 60\n",
    "model = Sequential()\n",
    "model.add(Dense(units=64, activation='sigmoid',\n",
    "                input_dim=len(X_train[0])))\n",
    "# model.add(Dense(units=#fill in answer,\n",
    "model.add(Dense(units=len(y_train[0]), activation='softmax'))\n",
    "# model.compile(loss=#fill in answer,\n",
    "model.compile(loss=categorical_crossentropy,metrics=['acc'],\n",
    "              optimizer=SGD(learning_rate=0.01,\n",
    "                            momentum=0.9, nesterov=True))\n",
    "history=model.fit(np.array(X_train), np.array(y_train), \n",
    "                  epochs=num_epochs, \n",
    "                  batch_size=16,\n",
    "                  validation_data=(X_test, y_test),\n",
    "                  verbose=1)"
   ]
  },
  {
   "cell_type": "markdown",
   "metadata": {
    "id": "12CMUFtWyr3l"
   },
   "source": [
    "## Show the learning curves\n",
    "\n",
    "1. Loss vs Epoch (training and validation)\n",
    "2. Accuracy vs Epoch (training and validation)"
   ]
  },
  {
   "cell_type": "code",
   "execution_count": 20,
   "metadata": {
    "colab": {
     "base_uri": "https://localhost:8080/",
     "height": 299
    },
    "id": "hWR8wgNPHfQd",
    "outputId": "ed443a3f-7d02-4a94-9be6-a174daab90a1"
   },
   "outputs": [
    {
     "data": {
      "image/png": "[encoded data removed]",
      "text/plain": [
       "<Figure size 640x480 with 1 Axes>"
      ]
     },
     "metadata": {},
     "output_type": "display_data"
    }
   ],
   "source": [
    "def plot_graphs(H, metric):\n",
    "  plt.style.use(\"ggplot\")\n",
    "  plt.figure()\n",
    "    \n",
    "  plt.plot(np.arange(0, num_epochs), H.history['loss'], label=\"train_loss\")\n",
    "  plt.plot(np.arange(0, num_epochs), H.history['val_loss'], label=\"val_loss\")\n",
    "  plt.plot(np.arange(0, num_epochs), H.history['acc'], label=\"train_acc\")\n",
    "  plt.plot(np.arange(0, num_epochs), H.history['val_acc'], label=\"val_acc\")\n",
    "    \n",
    "  plt.title(\"Training Loss and Accuracy\")\n",
    "  plt.xlabel(\"Epoch #\" )\n",
    "  plt.ylabel(\"Loss/Accuracy\" )\n",
    "  plt.legend()\n",
    "  plt.savefig(\"model history\")\n",
    "  plt.show()\n",
    "\n",
    "plot_graphs(history,'acc')"
   ]
  },
  {
   "cell_type": "markdown",
   "metadata": {
    "id": "cd2vmw7rgibM"
   },
   "source": [
    "## Use model to predict 'X_test'."
   ]
  },
  {
   "cell_type": "code",
   "execution_count": 21,
   "metadata": {
    "id": "19OkYT09Kq6z"
   },
   "outputs": [
    {
     "name": "stdout",
     "output_type": "stream",
     "text": [
      "\u001b[1m19/19\u001b[0m \u001b[32m━━━━━━━━━━━━━━━━━━━━\u001b[0m\u001b[37m\u001b[0m \u001b[1m0s\u001b[0m 6ms/step\n"
     ]
    }
   ],
   "source": [
    "preds = model.predict(X_test)"
   ]
  },
  {
   "cell_type": "markdown",
   "metadata": {
    "id": "nf_uFYoNgnqa"
   },
   "source": [
    "## Use argmax() to get the highest probability class label from preds. "
   ]
  },
  {
   "cell_type": "code",
   "execution_count": 22,
   "metadata": {
    "id": "KboqsFfsLLyl"
   },
   "outputs": [],
   "source": [
    "preds=[argmax(each) for each in preds]"
   ]
  },
  {
   "cell_type": "markdown",
   "metadata": {
    "id": "yCQhNAIugsM4"
   },
   "source": [
    "## Use argmax() to get the class label from y_test.\n",
    "\n"
   ]
  },
  {
   "cell_type": "code",
   "execution_count": 23,
   "metadata": {
    "id": "8gOPW9WTLY3h"
   },
   "outputs": [],
   "source": [
    "y_test_cm= [argmax(each) for each in y_test]"
   ]
  },
  {
   "cell_type": "markdown",
   "metadata": {
    "id": "SeHKnMY7zB6I"
   },
   "source": [
    "## Show Confusion Matrix \n",
    "\n",
    "Use sklearn's confusion_matrix function to create a confusion matrix. \n",
    "\n",
    "With the confusion matrix, create a pandas dataframe with columns called 'Negative' and 'Positive', and the index as 'Negative', 'Positive' as well."
   ]
  },
  {
   "cell_type": "code",
   "execution_count": 24,
   "metadata": {
    "colab": {
     "base_uri": "https://localhost:8080/",
     "height": 112
    },
    "id": "SFHAD9iEJ5Gs",
    "outputId": "6ee22521-58c7-4aea-ab13-b6c05cdc1c7b"
   },
   "outputs": [
    {
     "data": {
      "text/html": [
       "<div>\n",
       "<style scoped>\n",
       "    .dataframe tbody tr th:only-of-type {\n",
       "        vertical-align: middle;\n",
       "    }\n",
       "\n",
       "    .dataframe tbody tr th {\n",
       "        vertical-align: top;\n",
       "    }\n",
       "\n",
       "    .dataframe thead th {\n",
       "        text-align: right;\n",
       "    }\n",
       "</style>\n",
       "<table border=\"1\" class=\"dataframe\">\n",
       "  <thead>\n",
       "    <tr style=\"text-align: right;\">\n",
       "      <th></th>\n",
       "      <th>Negative</th>\n",
       "      <th>Positive</th>\n",
       "    </tr>\n",
       "  </thead>\n",
       "  <tbody>\n",
       "    <tr>\n",
       "      <th>Negative</th>\n",
       "      <td>297</td>\n",
       "      <td>5</td>\n",
       "    </tr>\n",
       "    <tr>\n",
       "      <th>Positive</th>\n",
       "      <td>3</td>\n",
       "      <td>295</td>\n",
       "    </tr>\n",
       "  </tbody>\n",
       "</table>\n",
       "</div>"
      ],
      "text/plain": [
       "          Negative  Positive\n",
       "Negative       297         5\n",
       "Positive         3       295"
      ]
     },
     "execution_count": 24,
     "metadata": {},
     "output_type": "execute_result"
    }
   ],
   "source": [
    "cm = confusion_matrix(y_test_cm, preds)\n",
    "df_cm = pd.DataFrame(cm, index=['Negative', 'Positive'], columns=['Negative', 'Positive'])\n",
    "df_cm.head()"
   ]
  },
  {
   "cell_type": "markdown",
   "metadata": {
    "id": "Dkx1wPfp0Hez"
   },
   "source": [
    "## Show Classification Report"
   ]
  },
  {
   "cell_type": "code",
   "execution_count": 25,
   "metadata": {
    "colab": {
     "base_uri": "https://localhost:8080/"
    },
    "id": "lJmWnZXoMBiS",
    "outputId": "abd0d984-3d54-429d-b27e-ae1666f4d06e"
   },
   "outputs": [
    {
     "name": "stdout",
     "output_type": "stream",
     "text": [
      "              precision    recall  f1-score   support\n",
      "\n",
      "           0       0.99      0.98      0.99       302\n",
      "           1       0.98      0.99      0.99       298\n",
      "\n",
      "    accuracy                           0.99       600\n",
      "   macro avg       0.99      0.99      0.99       600\n",
      "weighted avg       0.99      0.99      0.99       600\n",
      "\n"
     ]
    }
   ],
   "source": [
    "print(classification_report(y_test_cm, preds))"
   ]
  },
  {
   "cell_type": "markdown",
   "metadata": {
    "id": "ZkGSqxzShNo4"
   },
   "source": [
    "# Question 1: Suggest **ONE** way in terms of cleaning the data to improve model accuracy.\n"
   ]
  },
  {
   "cell_type": "markdown",
   "metadata": {
    "id": "oQQl4eWxhXKh"
   },
   "source": [
    "**Answer:** \n"
   ]
  }
 ],
 "metadata": {
  "colab": {
   "collapsed_sections": [],
   "name": "LECTURER_MockTest.ipynb",
   "provenance": []
  },
  "kernelspec": {
   "display_name": "NLP",
   "language": "python",
   "name": "python3"
  },
  "language_info": {
   "codemirror_mode": {
    "name": "ipython",
    "version": 3
   },
   "file_extension": ".py",
   "mimetype": "text/x-python",
   "name": "python",
   "nbconvert_exporter": "python",
   "pygments_lexer": "ipython3",
   "version": "3.10.16"
  }
 },
 "nbformat": 4,
 "nbformat_minor": 4
}
